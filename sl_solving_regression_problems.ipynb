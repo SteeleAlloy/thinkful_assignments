{
 "cells": [
  {
   "cell_type": "markdown",
   "metadata": {},
   "source": [
    "## Checkpoint 19.1: What is a Regression Task?\n",
    "Assignment\n",
    "\n",
    "To close out this checkpoint, answer the following questions. Once you're done, you can compare your answers to the ones found in this notebook, which you can download.\n",
    "\n",
    "**1. Let's assume that you have World Bank data on financial, economic and social indicators for several countries. You want to measure the factors that affect the level of development in these countries. To this end, you decide to use per capita income as a proxy for the development level, which is defined as the national income divided by the population. You want to use some features in your dataset to predict per capita income. Is this task a classification or a regression task? Why?**\n",
    "\n",
    "Really, you could go either way on identifying the type of problem that this task is. If you are pretty sure that there is only a specific set range of incomes you could use a classification model. I personally don't think I would approact this problem as a classification task simply because there is such a huge variance in income in the United States. With that said, I would process this as a regression task.\n",
    "\n",
    "**2. Which of the following arguments are false and why?**\n",
    "    * OLS is a special type of linear regression models- False. OLS isn't a type of regression model itself, more of an algorithm that helps you optimize your model.\n",
    "    * Regression models become useless if they don’t meet the assumptions of linear regression.- True! If they can't meet the basic 6 assumptions we can't perform linear regression on them!\n",
    "    * Estimation and prediction are the same thing in the context of linear regression models.- FALSE! Estimation is actually what we use to make our predictions, so they are not the same things.\n",
    "    * Linear regression is only one kind of regression model. Regression problems can also be solved with other kind of models like Support Vector Machines or Random Forests.True! \n",
    "\n",
    "**3. Assume that your project manager wants you to discover which free services your company offers make your customers buy more of your paid services. Formulate this task as a regression problem and write down the potential outcome and features that you’d like to work on.**\n",
    "\n",
    "Target variable = customer purchases of paid products\n",
    "Features = free service A and free service b\n",
    "\n",
    "customer purchases = free A + free B"
   ]
  },
  {
   "cell_type": "markdown",
   "metadata": {},
   "source": [
    "# Checkpoint 19.2: Simple Linear Regression with OLS\n",
    "Assignment: predicting house prices\n",
    "Now, it's your turn to design your first regression model. In this module, you'll be using a version of the \"House Prices\" dataset from Kaggle that we've ported to a Postgres database. This dataset consists of 79 variables describing many aspects of residential homes in Ames, Iowa. Using this data, your task will be to predict the prices of the houses. You can find the descriptions of the variables here: House Prices\n",
    "\n",
    "\n",
    "To complete this assignment, create a Jupyter notebook containing your solutions to the following tasks:\n",
    "\n",
    "\n",
    "* Load the dataset from the Thinkful PostgreSQL database. You can look at the example above for inspiration on how to generate the database engine URL. You'll need the following values:\n",
    "postgres_user = 'dsbc_student'\n",
    "postgres_pw = '7*.8G9QH21'\n",
    "postgres_host = '142.93.121.174'\n",
    "postgres_port = '5432'\n",
    "postgres_db = 'houseprices'\n",
    "\n",
    "* Please follow the example above and call engine.dispose() when you no longer need to make db queries. You need to be in the habit of responsibly managing database connections, and the database only supports a limited number of connections.\n",
    "\n",
    "* Investigate the data, and do any necessary data cleaning.\n",
    "\n",
    "* Explore the data and find some variables that you think would be useful in predicting house prices.\n",
    "\n",
    "* Build your initial model using these features and estimate the parameters using OLS.\n",
    "\n",
    "\n",
    "Spend up to 4 hours on this assignment. When you are done and have submitted a link to your notebook below, feel free to take a look at this example solution."
   ]
  },
  {
   "cell_type": "markdown",
   "metadata": {},
   "source": [
    "This assignment is on a seperate notebook due to it's size. Please see the shared github link!"
   ]
  },
  {
   "cell_type": "markdown",
   "metadata": {},
   "source": [
    "## Checkpoint 19.3: Meeting the Assumptions of Linear Regression\n",
    "This assignment is on a seperate notebook."
   ]
  },
  {
   "cell_type": "markdown",
   "metadata": {},
   "source": [
    "## Checkpoint 19.4: Interperting Estimated Coefficents\n",
    "## Assignments\n",
    "\n",
    "To close out this checkpoint, you're going to do three assignments. For the first assignment, you'll write up a short answer to a question.  For the second two assignments, you'll do your work in Jupyter notebooks.\n",
    "\n",
    "\n",
    "Please submit links to all your work below. This is not a graded checkpoint, but you should discuss your solutions with your mentor. Also, when you're done, compare your work to [these example solutions](https://github.com/Thinkful-Ed/machine-learning-regression-problems/blob/master/notebooks/4.solution_understanding_the_relationship.ipynb).\n",
    "\n",
    "### 1. Interpretation and significance\n",
    "\n",
    "Suppose that we would like to know how much families in the US are spending on recreation annually. We've estimated the following model:\n",
    "\n",
    "$$ expenditure = 873 + 0.0012annual\\_income + 0.00002annual\\_income^2 - 223.57have\\_kids $$\n",
    "\n",
    "*expenditure* is the annual spending on recreation in US dollars, *annual_income* is the annual income in US dollars, and *have_kids* is a dummy variable indicating the families with children. Interpret the estimated coefficients. What additional statistics should be given in order to make sure that your interpretations make sense statistically. Write up your answer."
   ]
  },
  {
   "cell_type": "markdown",
   "metadata": {},
   "source": [
    "For this example we know the following:\n",
    "\n",
    "* expenditure is the amount of USD spent on recreation\n",
    "* Our bias (or constant) is 873 which means that without all of the other factors in this equation the constant for spending would be $873\n",
    "* Families with kids spend, on avg, $223.57 less than families without children\n",
    "* For every $1000 of expenditure our annual income increases by $1.2 (I am assuming million)\n",
    "* For every $1000 of expenditure our annual income squared increases by 0.02%\n",
    "\n",
    "\n",
    "The other two activities for this module can be found on the weather and housing prices assignments!"
   ]
  }
 ],
 "metadata": {
  "kernelspec": {
   "display_name": "Python 3",
   "language": "python",
   "name": "python3"
  },
  "language_info": {
   "codemirror_mode": {
    "name": "ipython",
    "version": 3
   },
   "file_extension": ".py",
   "mimetype": "text/x-python",
   "name": "python",
   "nbconvert_exporter": "python",
   "pygments_lexer": "ipython3",
   "version": "3.7.3"
  }
 },
 "nbformat": 4,
 "nbformat_minor": 2
}
