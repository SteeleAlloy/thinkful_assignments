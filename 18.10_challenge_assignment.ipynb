{
 "cells": [
  {
   "cell_type": "markdown",
   "metadata": {},
   "source": [
    "## Check Point 18.10: Challenge\n",
    "It's time to revisit your classifier from the previous assignment. Using the evaluation techniques we've covered here, look at your classifier's performance in more detail. Then go back and iterate by engineering new features, removing poor features, or tuning parameters. Repeat this process until you have five different versions of your classifier. Once you've iterated, answer these questions to compare the performance of each below."
   ]
  },
  {
   "cell_type": "code",
   "execution_count": 1,
   "metadata": {},
   "outputs": [],
   "source": [
    "%matplotlib inline\n",
    "import numpy as np\n",
    "import pandas as pd\n",
    "import scipy\n",
    "import sklearn\n",
    "import matplotlib.pyplot as plt\n",
    "import seaborn as sns\n",
    "import os"
   ]
  },
  {
   "cell_type": "code",
   "execution_count": 4,
   "metadata": {},
   "outputs": [],
   "source": [
    "os.chdir('C:\\\\Users\\\\gothv\\\\OneDrive\\\\Desktop\\\\Data\\\\Datasets\\\\sentiment labelled sentences\\\\sentiment labelled sentences')"
   ]
  },
  {
   "cell_type": "code",
   "execution_count": 5,
   "metadata": {},
   "outputs": [
    {
     "data": {
      "text/plain": [
       "'C:\\\\Users\\\\gothv\\\\OneDrive\\\\Desktop\\\\Data\\\\Datasets\\\\sentiment labelled sentences\\\\sentiment labelled sentences'"
      ]
     },
     "execution_count": 5,
     "metadata": {},
     "output_type": "execute_result"
    }
   ],
   "source": [
    "os.getcwd()"
   ]
  },
  {
   "cell_type": "code",
   "execution_count": 6,
   "metadata": {},
   "outputs": [],
   "source": [
    "sentiment_df = pd.read_fwf('amazon_cells_labelled.txt', delimiter= '\\t', header = None)\n",
    "sentiment_df.columns = ['message']"
   ]
  },
  {
   "cell_type": "code",
   "execution_count": 7,
   "metadata": {},
   "outputs": [],
   "source": [
    "# Convert all messages to lowercase to better look for keywords\n",
    "sentiment_df['message'] = sentiment_df['message'].str.lower()"
   ]
  },
  {
   "cell_type": "code",
   "execution_count": 8,
   "metadata": {},
   "outputs": [],
   "source": [
    "# Create an easy to access list of words commonly found in positive reviews\n",
    "keywords = ['excellent', 'great', 'good', 'perfect', 'nice', 'wise', 'recommended', 'love', 'better', 'comfortable', 'cool', 'happy', 'simple', \n",
    "            'tremendous', 'exactly', 'best', 'must', 'loved', 'well', 'ideal', 'highly', 'fine', 'right', 'useful', 'all', 'reasonable']\n",
    "\n",
    "for key in keywords:\n",
    "    # Note that we add spaces around the key so that we're getting the word,\n",
    "    # not just pattern matching.\n",
    "   # sentiment_df[str(key)] = sentiment_df.message.str.contains(\n",
    "    #    ' ' + str(key) + ' ',\n",
    "     #   case= True\n",
    "    #)\n",
    "    sentiment_df[str(key)] = sentiment_df.message.str.contains(str(key), case= True)"
   ]
  },
  {
   "cell_type": "code",
   "execution_count": 9,
   "metadata": {},
   "outputs": [],
   "source": [
    "# Creating dummy columns below to return a number value for each of the keywords\n",
    "sentiment_df['excellent_p'] = sentiment_df.excellent.map({True: 1, False:0})\n",
    "sentiment_df['great_p'] = sentiment_df.great.map({True:1, False:0})\n",
    "sentiment_df['good_p'] = sentiment_df.good.map({True:1, False:0})\n",
    "sentiment_df['perfect_p'] = sentiment_df.perfect.map({True:1, False:0})\n",
    "sentiment_df['nice_p'] = sentiment_df.nice.map({True:1, False:0})\n",
    "sentiment_df['wise_p'] = sentiment_df.wise.map({True:1, False:0})\n",
    "sentiment_df['recommended_p'] = sentiment_df.recommended.map({True:1, False:0})\n",
    "sentiment_df['love_p'] = sentiment_df.love.map({True:1, False:0})\n",
    "sentiment_df['better_p'] = sentiment_df.better.map({True:1, False:0})\n",
    "sentiment_df['comfortable_p'] = sentiment_df.comfortable.map({True:1, False:0})\n",
    "sentiment_df['cool_p'] = sentiment_df.cool.map({True:1, False:0})\n",
    "sentiment_df['happy_p'] = sentiment_df.happy.map({True:1, False:0})\n",
    "sentiment_df['simple_p'] = sentiment_df.simple.map({True:1, False:0})\n",
    "sentiment_df['tremendous_p'] = sentiment_df.tremendous.map({True:1, False:0})\n",
    "sentiment_df['exactly_p'] = sentiment_df.exactly.map({True:1, False:0})\n",
    "sentiment_df['best_p'] = sentiment_df.best.map({True:1, False:0})\n",
    "sentiment_df['must_p'] = sentiment_df.must.map({True:1, False:0})\n",
    "sentiment_df['loved_p'] = sentiment_df.loved.map({True:1, False:0})\n",
    "sentiment_df['well_p'] = sentiment_df.well.map({True:1, False:0})\n",
    "sentiment_df['ideal_p'] = sentiment_df.ideal.map({True:1, False:0})\n",
    "sentiment_df['highly_p'] = sentiment_df.highly.map({True:1, False:0})\n",
    "sentiment_df['fine_p'] = sentiment_df.fine.map({True:1, False:0})\n",
    "sentiment_df['right_p'] = sentiment_df.right.map({True:1, False:0})\n",
    "sentiment_df['useful_p'] = sentiment_df.useful.map({True:1, False:0})\n",
    "sentiment_df['all_p'] = sentiment_df['all'].map({True:1, False:0})\n",
    "sentiment_df['reasonable_p'] = sentiment_df.reasonable.map({True:1, False:0})"
   ]
  },
  {
   "cell_type": "code",
   "execution_count": 10,
   "metadata": {},
   "outputs": [],
   "source": [
    "positive = sentiment_df[keywords].sum(axis = 1)"
   ]
  },
  {
   "cell_type": "code",
   "execution_count": 11,
   "metadata": {},
   "outputs": [],
   "source": [
    "sentiment_df['positive']= positive"
   ]
  },
  {
   "cell_type": "code",
   "execution_count": 12,
   "metadata": {},
   "outputs": [],
   "source": [
    "data = sentiment_df[keywords]\n",
    "target = sentiment_df['positive']"
   ]
  },
  {
   "cell_type": "code",
   "execution_count": 13,
   "metadata": {},
   "outputs": [
    {
     "data": {
      "text/html": [
       "<div>\n",
       "<style scoped>\n",
       "    .dataframe tbody tr th:only-of-type {\n",
       "        vertical-align: middle;\n",
       "    }\n",
       "\n",
       "    .dataframe tbody tr th {\n",
       "        vertical-align: top;\n",
       "    }\n",
       "\n",
       "    .dataframe thead th {\n",
       "        text-align: right;\n",
       "    }\n",
       "</style>\n",
       "<table border=\"1\" class=\"dataframe\">\n",
       "  <thead>\n",
       "    <tr style=\"text-align: right;\">\n",
       "      <th></th>\n",
       "      <th>message</th>\n",
       "      <th>excellent</th>\n",
       "      <th>great</th>\n",
       "      <th>good</th>\n",
       "      <th>perfect</th>\n",
       "      <th>nice</th>\n",
       "      <th>wise</th>\n",
       "      <th>recommended</th>\n",
       "      <th>love</th>\n",
       "      <th>better</th>\n",
       "      <th>...</th>\n",
       "      <th>loved_p</th>\n",
       "      <th>well_p</th>\n",
       "      <th>ideal_p</th>\n",
       "      <th>highly_p</th>\n",
       "      <th>fine_p</th>\n",
       "      <th>right_p</th>\n",
       "      <th>useful_p</th>\n",
       "      <th>all_p</th>\n",
       "      <th>reasonable_p</th>\n",
       "      <th>positive</th>\n",
       "    </tr>\n",
       "  </thead>\n",
       "  <tbody>\n",
       "    <tr>\n",
       "      <th>0</th>\n",
       "      <td>so there is no way for me to plug it in here i...</td>\n",
       "      <td>False</td>\n",
       "      <td>False</td>\n",
       "      <td>False</td>\n",
       "      <td>False</td>\n",
       "      <td>False</td>\n",
       "      <td>False</td>\n",
       "      <td>False</td>\n",
       "      <td>False</td>\n",
       "      <td>False</td>\n",
       "      <td>...</td>\n",
       "      <td>0</td>\n",
       "      <td>0</td>\n",
       "      <td>0</td>\n",
       "      <td>0</td>\n",
       "      <td>0</td>\n",
       "      <td>0</td>\n",
       "      <td>0</td>\n",
       "      <td>0</td>\n",
       "      <td>0</td>\n",
       "      <td>0</td>\n",
       "    </tr>\n",
       "    <tr>\n",
       "      <th>1</th>\n",
       "      <td>good case, excellent value.\\t1</td>\n",
       "      <td>True</td>\n",
       "      <td>False</td>\n",
       "      <td>True</td>\n",
       "      <td>False</td>\n",
       "      <td>False</td>\n",
       "      <td>False</td>\n",
       "      <td>False</td>\n",
       "      <td>False</td>\n",
       "      <td>False</td>\n",
       "      <td>...</td>\n",
       "      <td>0</td>\n",
       "      <td>0</td>\n",
       "      <td>0</td>\n",
       "      <td>0</td>\n",
       "      <td>0</td>\n",
       "      <td>0</td>\n",
       "      <td>0</td>\n",
       "      <td>0</td>\n",
       "      <td>0</td>\n",
       "      <td>2</td>\n",
       "    </tr>\n",
       "    <tr>\n",
       "      <th>2</th>\n",
       "      <td>great for the jawbone.\\t1</td>\n",
       "      <td>False</td>\n",
       "      <td>True</td>\n",
       "      <td>False</td>\n",
       "      <td>False</td>\n",
       "      <td>False</td>\n",
       "      <td>False</td>\n",
       "      <td>False</td>\n",
       "      <td>False</td>\n",
       "      <td>False</td>\n",
       "      <td>...</td>\n",
       "      <td>0</td>\n",
       "      <td>0</td>\n",
       "      <td>0</td>\n",
       "      <td>0</td>\n",
       "      <td>0</td>\n",
       "      <td>0</td>\n",
       "      <td>0</td>\n",
       "      <td>0</td>\n",
       "      <td>0</td>\n",
       "      <td>1</td>\n",
       "    </tr>\n",
       "    <tr>\n",
       "      <th>3</th>\n",
       "      <td>tied to charger for conversations lasting more...</td>\n",
       "      <td>False</td>\n",
       "      <td>False</td>\n",
       "      <td>False</td>\n",
       "      <td>False</td>\n",
       "      <td>False</td>\n",
       "      <td>False</td>\n",
       "      <td>False</td>\n",
       "      <td>False</td>\n",
       "      <td>False</td>\n",
       "      <td>...</td>\n",
       "      <td>0</td>\n",
       "      <td>0</td>\n",
       "      <td>0</td>\n",
       "      <td>0</td>\n",
       "      <td>0</td>\n",
       "      <td>0</td>\n",
       "      <td>0</td>\n",
       "      <td>0</td>\n",
       "      <td>0</td>\n",
       "      <td>0</td>\n",
       "    </tr>\n",
       "    <tr>\n",
       "      <th>4</th>\n",
       "      <td>the mic is great.\\t1</td>\n",
       "      <td>False</td>\n",
       "      <td>True</td>\n",
       "      <td>False</td>\n",
       "      <td>False</td>\n",
       "      <td>False</td>\n",
       "      <td>False</td>\n",
       "      <td>False</td>\n",
       "      <td>False</td>\n",
       "      <td>False</td>\n",
       "      <td>...</td>\n",
       "      <td>0</td>\n",
       "      <td>0</td>\n",
       "      <td>0</td>\n",
       "      <td>0</td>\n",
       "      <td>0</td>\n",
       "      <td>0</td>\n",
       "      <td>0</td>\n",
       "      <td>0</td>\n",
       "      <td>0</td>\n",
       "      <td>1</td>\n",
       "    </tr>\n",
       "  </tbody>\n",
       "</table>\n",
       "<p>5 rows × 54 columns</p>\n",
       "</div>"
      ],
      "text/plain": [
       "                                             message  excellent  great   good  \\\n",
       "0  so there is no way for me to plug it in here i...      False  False  False   \n",
       "1                     good case, excellent value.\\t1       True  False   True   \n",
       "2                          great for the jawbone.\\t1      False   True  False   \n",
       "3  tied to charger for conversations lasting more...      False  False  False   \n",
       "4                               the mic is great.\\t1      False   True  False   \n",
       "\n",
       "   perfect   nice   wise  recommended   love  better  ...  loved_p  well_p  \\\n",
       "0    False  False  False        False  False   False  ...        0       0   \n",
       "1    False  False  False        False  False   False  ...        0       0   \n",
       "2    False  False  False        False  False   False  ...        0       0   \n",
       "3    False  False  False        False  False   False  ...        0       0   \n",
       "4    False  False  False        False  False   False  ...        0       0   \n",
       "\n",
       "   ideal_p  highly_p  fine_p  right_p  useful_p  all_p  reasonable_p  positive  \n",
       "0        0         0       0        0         0      0             0         0  \n",
       "1        0         0       0        0         0      0             0         2  \n",
       "2        0         0       0        0         0      0             0         1  \n",
       "3        0         0       0        0         0      0             0         0  \n",
       "4        0         0       0        0         0      0             0         1  \n",
       "\n",
       "[5 rows x 54 columns]"
      ]
     },
     "execution_count": 13,
     "metadata": {},
     "output_type": "execute_result"
    }
   ],
   "source": [
    "sentiment_df.head()"
   ]
  },
  {
   "cell_type": "code",
   "execution_count": 14,
   "metadata": {},
   "outputs": [
    {
     "name": "stdout",
     "output_type": "stream",
     "text": [
      "Number of mislabeled points out of a total 1000 points : 87\n"
     ]
    }
   ],
   "source": [
    "# Our data is binary / boolean, so we're importing the Bernoulli classifier.\n",
    "from sklearn.naive_bayes import BernoulliNB\n",
    "\n",
    "# Instantiate our model and store it in a new variable.\n",
    "bnb = BernoulliNB()\n",
    "\n",
    "# Fit our model to the data.\n",
    "bnb.fit(data, target)\n",
    "\n",
    "# Classify, storing the result in a new variable.\n",
    "y_pred = bnb.predict(data)\n",
    "\n",
    "# Display our results.\n",
    "print(\"Number of mislabeled points out of a total {} points : {}\".format(\n",
    "    data.shape[0],\n",
    "    (target != y_pred).sum()\n",
    "))"
   ]
  },
  {
   "cell_type": "markdown",
   "metadata": {},
   "source": [
    "Since I have already done several points of feature engineering in the assignment above, I wanted to see how my model would work with other types of Naive Bayes. Below are my tests of several different classification methods."
   ]
  },
  {
   "cell_type": "code",
   "execution_count": 15,
   "metadata": {},
   "outputs": [
    {
     "name": "stdout",
     "output_type": "stream",
     "text": [
      "Number of mislabeled points out of a total 1000 points : 410\n"
     ]
    }
   ],
   "source": [
    "# Let's see if there is a difference with Gaussean Naive Bayes\n",
    "from sklearn.naive_bayes import GaussianNB\n",
    "\n",
    "# Instantiate our model and store it in a new variable.\n",
    "gnb = GaussianNB()\n",
    "\n",
    "# Fit our model to the data.\n",
    "gnb.fit(data, target)\n",
    "\n",
    "# Classify, storing the result in a new variable.\n",
    "y_pred = gnb.predict(data)\n",
    "\n",
    "# Display our results.\n",
    "print(\"Number of mislabeled points out of a total {} points : {}\".format(\n",
    "    data.shape[0],\n",
    "    (target != y_pred).sum()\n",
    "))"
   ]
  },
  {
   "cell_type": "code",
   "execution_count": 22,
   "metadata": {},
   "outputs": [
    {
     "name": "stdout",
     "output_type": "stream",
     "text": [
      "The accuracy of the model above is  59.0\n"
     ]
    }
   ],
   "source": [
    "accuracy_1 = ((1000-410)/1000)*100\n",
    "print('The accuracy of the model above is ',  accuracy_1) "
   ]
  },
  {
   "cell_type": "code",
   "execution_count": 24,
   "metadata": {},
   "outputs": [
    {
     "name": "stdout",
     "output_type": "stream",
     "text": [
      "Number of mislabeled points out of a total 1000 points : 239\n"
     ]
    }
   ],
   "source": [
    "# Let's see if there is a difference with Multinomial Naive Bayes\n",
    "from sklearn.naive_bayes import MultinomialNB\n",
    "\n",
    "# Instantiate our model and store it in a new variable.\n",
    "mnb = MultinomialNB()\n",
    "\n",
    "# Fit our model to the data.\n",
    "mnb.fit(data, target)\n",
    "\n",
    "# Classify, storing the result in a new variable.\n",
    "y_pred = mnb.predict(data)\n",
    "\n",
    "# Display our results.\n",
    "print(\"Number of mislabeled points out of a total {} points : {}\".format(\n",
    "    data.shape[0],\n",
    "    (target != y_pred).sum()\n",
    "))"
   ]
  },
  {
   "cell_type": "code",
   "execution_count": 27,
   "metadata": {},
   "outputs": [
    {
     "name": "stdout",
     "output_type": "stream",
     "text": [
      "The accuracy of the model above is  76.1\n"
     ]
    }
   ],
   "source": [
    "accuracy_2 = ((1000-239)/1000)*100\n",
    "print('The accuracy of the model above is ',  accuracy_2) "
   ]
  },
  {
   "cell_type": "code",
   "execution_count": 26,
   "metadata": {},
   "outputs": [
    {
     "name": "stdout",
     "output_type": "stream",
     "text": [
      "Number of mislabeled points out of a total 1000 points : 271\n"
     ]
    }
   ],
   "source": [
    "# Let's try a Compliment Naive Bayes \n",
    "from sklearn.naive_bayes import ComplementNB\n",
    "\n",
    "# Instantiate our model and store it in a new variable.\n",
    "cnb = ComplementNB()\n",
    "\n",
    "# Fit our model to the data.\n",
    "cnb.fit(data, target)\n",
    "\n",
    "# Classify, storing the result in a new variable.\n",
    "y_pred = cnb.predict(data)\n",
    "\n",
    "# Display our results.\n",
    "print(\"Number of mislabeled points out of a total {} points : {}\".format(\n",
    "    data.shape[0],\n",
    "    (target != y_pred).sum()\n",
    "))"
   ]
  },
  {
   "cell_type": "code",
   "execution_count": 28,
   "metadata": {},
   "outputs": [
    {
     "name": "stdout",
     "output_type": "stream",
     "text": [
      "The accuracy of the model above is  72.89999999999999\n"
     ]
    }
   ],
   "source": [
    "accuracy_3 = ((1000-271)/1000)*100\n",
    "print('The accuracy of the model above is ',  accuracy_3) "
   ]
  },
  {
   "cell_type": "code",
   "execution_count": 29,
   "metadata": {},
   "outputs": [
    {
     "name": "stdout",
     "output_type": "stream",
     "text": [
      "Number of mislabeled points out of a total 1000 points : 0\n"
     ]
    }
   ],
   "source": [
    "# Let's see what happens with a decision tree on this set of data!\n",
    "from sklearn.tree import DecisionTreeClassifier\n",
    "\n",
    "# Instantiate our model and store it in a new variable.\n",
    "decision_tree = DecisionTreeClassifier()\n",
    "\n",
    "# Fit our model to the data.\n",
    "decision_tree.fit(data, target)\n",
    "\n",
    "# Classify, storing the result in a new variable.\n",
    "y_pred = decision_tree.predict(data)\n",
    "\n",
    "# Display our results.\n",
    "print(\"Number of mislabeled points out of a total {} points : {}\".format(\n",
    "    data.shape[0],\n",
    "    (target != y_pred).sum()\n",
    "))"
   ]
  },
  {
   "cell_type": "markdown",
   "metadata": {},
   "source": [
    "Hmmm... the model above seems to have an error. I need to break this down further with my mentor to see what is really happening (and where I made my error)."
   ]
  },
  {
   "cell_type": "markdown",
   "metadata": {},
   "source": [
    "**Do any of your classifiers seem to overfit?**\n",
    "Yes, either due to error (I am not sure I used the correct code) or not being the best type of model my attempt at a decision tree seemed to seriously overfit.\n",
    "\n",
    "\n",
    "**Which seem to perform the best? Why?**\n",
    "I have to stick with my first classifier: Bernoulli Naive Bayes. It had the highest accuracy and really seemed to work the best.\n",
    "\n",
    "\n",
    "**Which features seemed to be most impactful to performance?**\n",
    "Since my features were just my keywords the most impactful ones were the most frequently occuring words, such as good, great, and happy. These words worked best because they were not specific to either a product or place."
   ]
  }
 ],
 "metadata": {
  "kernelspec": {
   "display_name": "Python 3",
   "language": "python",
   "name": "python3"
  },
  "language_info": {
   "codemirror_mode": {
    "name": "ipython",
    "version": 3
   },
   "file_extension": ".py",
   "mimetype": "text/x-python",
   "name": "python",
   "nbconvert_exporter": "python",
   "pygments_lexer": "ipython3",
   "version": "3.7.3"
  }
 },
 "nbformat": 4,
 "nbformat_minor": 2
}
