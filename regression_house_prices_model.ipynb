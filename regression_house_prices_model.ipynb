{
 "cells": [
  {
   "cell_type": "code",
   "execution_count": 4,
   "metadata": {},
   "outputs": [],
   "source": [
    "import pandas as pd\n",
    "import numpy as np\n",
    "import seaborn as sns\n",
    "import matplotlib.pyplot as plt\n",
    "%matplotlib inline\n",
    "from pylab import rcParams\n",
    "import statsmodels.api as sm\n",
    "from statsmodels.tools.eval_measures import mse, rmse\n",
    "from sklearn.model_selection import train_test_split\n",
    "from sklearn.metrics import mean_absolute_error\n",
    "from sklearn.linear_model import LinearRegression\n",
    "from sklearn import linear_model\n",
    "import os"
   ]
  },
  {
   "cell_type": "code",
   "execution_count": 6,
   "metadata": {},
   "outputs": [],
   "source": [
    "from sqlalchemy import create_engine\n",
    "import warnings\n",
    "\n",
    "warnings.filterwarnings('ignore')\n",
    "sns.set(style=\"whitegrid\")\n",
    "\n",
    "postgres_user = 'dsbc_student'\n",
    "postgres_pw = '7*.8G9QH21'\n",
    "postgres_host = '142.93.121.174'\n",
    "postgres_port = '5432'\n",
    "postgres_db = 'houseprices'\n",
    "\n",
    "engine = create_engine('postgresql://{}:{}@{}:{}/{}'.format(\n",
    "    postgres_user, postgres_pw, postgres_host, postgres_port, postgres_db))\n",
    "\n",
    "\n",
    "housedf = pd.read_sql_query('select * from houseprices',con=engine)\n",
    "\n",
    "engine.dispose()"
   ]
  },
  {
   "cell_type": "code",
   "execution_count": 7,
   "metadata": {},
   "outputs": [],
   "source": [
    "# Creating the for loop to take care of all missing values in object columns.\n",
    "column = (['poolqc', 'fence', 'miscfeature', 'alley', 'fireplacequ', 'garagecond', 'garagetype', 'garagefinish', 'garagequal', \n",
    "            'bsmtexposure', 'bsmtfintype2', 'bsmtfintype1', 'bsmtcond', 'bsmtqual', 'masvnrtype', 'electrical'])\n",
    "\n",
    "for col_name in column:\n",
    "   housedf[col_name].fillna('blank', inplace= True)"
   ]
  },
  {
   "cell_type": "code",
   "execution_count": 8,
   "metadata": {},
   "outputs": [],
   "source": [
    "  # Since this feature has a min. value of 0 it won't hurt if I turn all missing values to a 0 as well\n",
    "housedf['masvnrarea'].fillna(0, inplace= True)"
   ]
  },
  {
   "cell_type": "code",
   "execution_count": 9,
   "metadata": {},
   "outputs": [],
   "source": [
    "# Since the remaining two features only have a minimal number of null values and can't be set to 0 I'm going to set them to \n",
    "# the average of the column.\n",
    "\n",
    "housedf['lotfrontage'].fillna(housedf['lotfrontage'].mean(),inplace=True)\n",
    "housedf['garageyrblt'].fillna(housedf['garageyrblt'].mean(),inplace=True)\n"
   ]
  },
  {
   "cell_type": "code",
   "execution_count": 10,
   "metadata": {},
   "outputs": [
    {
     "name": "stdout",
     "output_type": "stream",
     "text": [
      "Index(['mszoning', 'street', 'alley', 'lotshape', 'landcontour', 'utilities',\n",
      "       'lotconfig', 'landslope', 'neighborhood', 'condition1', 'condition2',\n",
      "       'bldgtype', 'housestyle', 'roofstyle', 'roofmatl', 'exterior1st',\n",
      "       'exterior2nd', 'masvnrtype', 'exterqual', 'extercond', 'foundation',\n",
      "       'bsmtqual', 'bsmtcond', 'bsmtexposure', 'bsmtfintype1', 'bsmtfintype2',\n",
      "       'heating', 'heatingqc', 'centralair', 'electrical', 'kitchenqual',\n",
      "       'functional', 'fireplacequ', 'garagetype', 'garagefinish', 'garagequal',\n",
      "       'garagecond', 'paveddrive', 'poolqc', 'fence', 'miscfeature',\n",
      "       'saletype', 'salecondition'],\n",
      "      dtype='object')\n",
      "The number of non-numerical columns is 43\n"
     ]
    }
   ],
   "source": [
    "#Borrowed this piece of code and the one below from the example: these are designed to help seperate columns faster!\n",
    "non_numeric_columns = housedf.select_dtypes(['object']).columns\n",
    "print(non_numeric_columns)\n",
    "print(\"The number of non-numerical columns is {}\".format(len(non_numeric_columns)))"
   ]
  },
  {
   "cell_type": "code",
   "execution_count": 11,
   "metadata": {},
   "outputs": [
    {
     "name": "stdout",
     "output_type": "stream",
     "text": [
      "Index(['id', 'mssubclass', 'lotfrontage', 'lotarea', 'overallqual',\n",
      "       'overallcond', 'yearbuilt', 'yearremodadd', 'masvnrarea', 'bsmtfinsf1',\n",
      "       'bsmtfinsf2', 'bsmtunfsf', 'totalbsmtsf', 'firstflrsf', 'secondflrsf',\n",
      "       'lowqualfinsf', 'grlivarea', 'bsmtfullbath', 'bsmthalfbath', 'fullbath',\n",
      "       'halfbath', 'bedroomabvgr', 'kitchenabvgr', 'totrmsabvgrd',\n",
      "       'fireplaces', 'garageyrblt', 'garagecars', 'garagearea', 'wooddecksf',\n",
      "       'openporchsf', 'enclosedporch', 'threessnporch', 'screenporch',\n",
      "       'poolarea', 'miscval', 'mosold', 'yrsold', 'saleprice'],\n",
      "      dtype='object')\n",
      "The number of numerical columns is 38\n"
     ]
    }
   ],
   "source": [
    "numeric_columns = housedf.select_dtypes(['int64', 'float64']).columns\n",
    "print(numeric_columns)\n",
    "print(\"The number of numerical columns is {}\".format(len(numeric_columns)))"
   ]
  },
  {
   "cell_type": "code",
   "execution_count": 12,
   "metadata": {},
   "outputs": [],
   "source": [
    "# Adding new feature to our model\n",
    "X = housedf[['overallqual', 'grlivarea', 'garagecars', 'garagearea', 'totalbsmtsf']] \n",
    "Y = housedf.saleprice"
   ]
  },
  {
   "cell_type": "code",
   "execution_count": 13,
   "metadata": {
    "scrolled": true
   },
   "outputs": [
    {
     "data": {
      "text/html": [
       "<table class=\"simpletable\">\n",
       "<caption>OLS Regression Results</caption>\n",
       "<tr>\n",
       "  <th>Dep. Variable:</th>        <td>saleprice</td>    <th>  R-squared:         </th> <td>   0.761</td> \n",
       "</tr>\n",
       "<tr>\n",
       "  <th>Model:</th>                   <td>OLS</td>       <th>  Adj. R-squared:    </th> <td>   0.760</td> \n",
       "</tr>\n",
       "<tr>\n",
       "  <th>Method:</th>             <td>Least Squares</td>  <th>  F-statistic:       </th> <td>   926.5</td> \n",
       "</tr>\n",
       "<tr>\n",
       "  <th>Date:</th>             <td>Fri, 05 Jul 2019</td> <th>  Prob (F-statistic):</th>  <td>  0.00</td>  \n",
       "</tr>\n",
       "<tr>\n",
       "  <th>Time:</th>                 <td>17:16:13</td>     <th>  Log-Likelihood:    </th> <td> -17499.</td> \n",
       "</tr>\n",
       "<tr>\n",
       "  <th>No. Observations:</th>      <td>  1460</td>      <th>  AIC:               </th> <td>3.501e+04</td>\n",
       "</tr>\n",
       "<tr>\n",
       "  <th>Df Residuals:</th>          <td>  1454</td>      <th>  BIC:               </th> <td>3.504e+04</td>\n",
       "</tr>\n",
       "<tr>\n",
       "  <th>Df Model:</th>              <td>     5</td>      <th>                     </th>     <td> </td>    \n",
       "</tr>\n",
       "<tr>\n",
       "  <th>Covariance Type:</th>      <td>nonrobust</td>    <th>                     </th>     <td> </td>    \n",
       "</tr>\n",
       "</table>\n",
       "<table class=\"simpletable\">\n",
       "<tr>\n",
       "       <td></td>          <th>coef</th>     <th>std err</th>      <th>t</th>      <th>P>|t|</th>  <th>[0.025</th>    <th>0.975]</th>  \n",
       "</tr>\n",
       "<tr>\n",
       "  <th>const</th>       <td>-9.907e+04</td> <td> 4638.450</td> <td>  -21.359</td> <td> 0.000</td> <td>-1.08e+05</td> <td>   -9e+04</td>\n",
       "</tr>\n",
       "<tr>\n",
       "  <th>overallqual</th> <td> 2.364e+04</td> <td> 1072.532</td> <td>   22.037</td> <td> 0.000</td> <td> 2.15e+04</td> <td> 2.57e+04</td>\n",
       "</tr>\n",
       "<tr>\n",
       "  <th>grlivarea</th>   <td>   45.3458</td> <td>    2.489</td> <td>   18.218</td> <td> 0.000</td> <td>   40.463</td> <td>   50.228</td>\n",
       "</tr>\n",
       "<tr>\n",
       "  <th>garagecars</th>  <td> 1.454e+04</td> <td> 3022.681</td> <td>    4.812</td> <td> 0.000</td> <td> 8615.034</td> <td> 2.05e+04</td>\n",
       "</tr>\n",
       "<tr>\n",
       "  <th>garagearea</th>  <td>   17.1334</td> <td>   10.468</td> <td>    1.637</td> <td> 0.102</td> <td>   -3.401</td> <td>   37.668</td>\n",
       "</tr>\n",
       "<tr>\n",
       "  <th>totalbsmtsf</th> <td>   31.5015</td> <td>    2.904</td> <td>   10.848</td> <td> 0.000</td> <td>   25.805</td> <td>   37.198</td>\n",
       "</tr>\n",
       "</table>\n",
       "<table class=\"simpletable\">\n",
       "<tr>\n",
       "  <th>Omnibus:</th>       <td>438.146</td> <th>  Durbin-Watson:     </th> <td>   1.971</td> \n",
       "</tr>\n",
       "<tr>\n",
       "  <th>Prob(Omnibus):</th> <td> 0.000</td>  <th>  Jarque-Bera (JB):  </th> <td>40648.199</td>\n",
       "</tr>\n",
       "<tr>\n",
       "  <th>Skew:</th>          <td>-0.338</td>  <th>  Prob(JB):          </th> <td>    0.00</td> \n",
       "</tr>\n",
       "<tr>\n",
       "  <th>Kurtosis:</th>      <td>28.841</td>  <th>  Cond. No.          </th> <td>9.23e+03</td> \n",
       "</tr>\n",
       "</table><br/><br/>Warnings:<br/>[1] Standard Errors assume that the covariance matrix of the errors is correctly specified.<br/>[2] The condition number is large, 9.23e+03. This might indicate that there are<br/>strong multicollinearity or other numerical problems."
      ],
      "text/plain": [
       "<class 'statsmodels.iolib.summary.Summary'>\n",
       "\"\"\"\n",
       "                            OLS Regression Results                            \n",
       "==============================================================================\n",
       "Dep. Variable:              saleprice   R-squared:                       0.761\n",
       "Model:                            OLS   Adj. R-squared:                  0.760\n",
       "Method:                 Least Squares   F-statistic:                     926.5\n",
       "Date:                Fri, 05 Jul 2019   Prob (F-statistic):               0.00\n",
       "Time:                        17:16:13   Log-Likelihood:                -17499.\n",
       "No. Observations:                1460   AIC:                         3.501e+04\n",
       "Df Residuals:                    1454   BIC:                         3.504e+04\n",
       "Df Model:                           5                                         \n",
       "Covariance Type:            nonrobust                                         \n",
       "===============================================================================\n",
       "                  coef    std err          t      P>|t|      [0.025      0.975]\n",
       "-------------------------------------------------------------------------------\n",
       "const       -9.907e+04   4638.450    -21.359      0.000   -1.08e+05      -9e+04\n",
       "overallqual  2.364e+04   1072.532     22.037      0.000    2.15e+04    2.57e+04\n",
       "grlivarea      45.3458      2.489     18.218      0.000      40.463      50.228\n",
       "garagecars   1.454e+04   3022.681      4.812      0.000    8615.034    2.05e+04\n",
       "garagearea     17.1334     10.468      1.637      0.102      -3.401      37.668\n",
       "totalbsmtsf    31.5015      2.904     10.848      0.000      25.805      37.198\n",
       "==============================================================================\n",
       "Omnibus:                      438.146   Durbin-Watson:                   1.971\n",
       "Prob(Omnibus):                  0.000   Jarque-Bera (JB):            40648.199\n",
       "Skew:                          -0.338   Prob(JB):                         0.00\n",
       "Kurtosis:                      28.841   Cond. No.                     9.23e+03\n",
       "==============================================================================\n",
       "\n",
       "Warnings:\n",
       "[1] Standard Errors assume that the covariance matrix of the errors is correctly specified.\n",
       "[2] The condition number is large, 9.23e+03. This might indicate that there are\n",
       "strong multicollinearity or other numerical problems.\n",
       "\"\"\""
      ]
     },
     "execution_count": 13,
     "metadata": {},
     "output_type": "execute_result"
    }
   ],
   "source": [
    "X = sm.add_constant(X)\n",
    "\n",
    "results = sm.OLS(Y, X).fit()\n",
    "\n",
    "results.summary()"
   ]
  },
  {
   "cell_type": "code",
   "execution_count": 14,
   "metadata": {},
   "outputs": [],
   "source": [
    "# Let's make our model\n",
    "X = housedf[['overallqual', 'grlivarea', 'garagecars', 'totalbsmtsf']] \n",
    "Y = housedf.saleprice"
   ]
  },
  {
   "cell_type": "code",
   "execution_count": 15,
   "metadata": {},
   "outputs": [
    {
     "data": {
      "text/html": [
       "<table class=\"simpletable\">\n",
       "<caption>OLS Regression Results</caption>\n",
       "<tr>\n",
       "  <th>Dep. Variable:</th>        <td>saleprice</td>    <th>  R-squared:         </th> <td>   0.761</td> \n",
       "</tr>\n",
       "<tr>\n",
       "  <th>Model:</th>                   <td>OLS</td>       <th>  Adj. R-squared:    </th> <td>   0.760</td> \n",
       "</tr>\n",
       "<tr>\n",
       "  <th>Method:</th>             <td>Least Squares</td>  <th>  F-statistic:       </th> <td>   1156.</td> \n",
       "</tr>\n",
       "<tr>\n",
       "  <th>Date:</th>             <td>Fri, 05 Jul 2019</td> <th>  Prob (F-statistic):</th>  <td>  0.00</td>  \n",
       "</tr>\n",
       "<tr>\n",
       "  <th>Time:</th>                 <td>17:16:13</td>     <th>  Log-Likelihood:    </th> <td> -17500.</td> \n",
       "</tr>\n",
       "<tr>\n",
       "  <th>No. Observations:</th>      <td>  1460</td>      <th>  AIC:               </th> <td>3.501e+04</td>\n",
       "</tr>\n",
       "<tr>\n",
       "  <th>Df Residuals:</th>          <td>  1455</td>      <th>  BIC:               </th> <td>3.504e+04</td>\n",
       "</tr>\n",
       "<tr>\n",
       "  <th>Df Model:</th>              <td>     4</td>      <th>                     </th>     <td> </td>    \n",
       "</tr>\n",
       "<tr>\n",
       "  <th>Covariance Type:</th>      <td>nonrobust</td>    <th>                     </th>     <td> </td>    \n",
       "</tr>\n",
       "</table>\n",
       "<table class=\"simpletable\">\n",
       "<tr>\n",
       "       <td></td>          <th>coef</th>     <th>std err</th>      <th>t</th>      <th>P>|t|</th>  <th>[0.025</th>    <th>0.975]</th>  \n",
       "</tr>\n",
       "<tr>\n",
       "  <th>const</th>       <td>-9.925e+04</td> <td> 4639.866</td> <td>  -21.390</td> <td> 0.000</td> <td>-1.08e+05</td> <td>-9.01e+04</td>\n",
       "</tr>\n",
       "<tr>\n",
       "  <th>overallqual</th> <td> 2.357e+04</td> <td> 1072.465</td> <td>   21.980</td> <td> 0.000</td> <td> 2.15e+04</td> <td> 2.57e+04</td>\n",
       "</tr>\n",
       "<tr>\n",
       "  <th>grlivarea</th>   <td>   45.6432</td> <td>    2.484</td> <td>   18.376</td> <td> 0.000</td> <td>   40.771</td> <td>   50.515</td>\n",
       "</tr>\n",
       "<tr>\n",
       "  <th>garagecars</th>  <td> 1.858e+04</td> <td> 1747.412</td> <td>   10.634</td> <td> 0.000</td> <td> 1.52e+04</td> <td>  2.2e+04</td>\n",
       "</tr>\n",
       "<tr>\n",
       "  <th>totalbsmtsf</th> <td>   32.5203</td> <td>    2.838</td> <td>   11.459</td> <td> 0.000</td> <td>   26.953</td> <td>   38.087</td>\n",
       "</tr>\n",
       "</table>\n",
       "<table class=\"simpletable\">\n",
       "<tr>\n",
       "  <th>Omnibus:</th>       <td>421.692</td> <th>  Durbin-Watson:     </th> <td>   1.969</td> \n",
       "</tr>\n",
       "<tr>\n",
       "  <th>Prob(Omnibus):</th> <td> 0.000</td>  <th>  Jarque-Bera (JB):  </th> <td>36798.858</td>\n",
       "</tr>\n",
       "<tr>\n",
       "  <th>Skew:</th>          <td>-0.273</td>  <th>  Prob(JB):          </th> <td>    0.00</td> \n",
       "</tr>\n",
       "<tr>\n",
       "  <th>Kurtosis:</th>      <td>27.589</td>  <th>  Cond. No.          </th> <td>8.95e+03</td> \n",
       "</tr>\n",
       "</table><br/><br/>Warnings:<br/>[1] Standard Errors assume that the covariance matrix of the errors is correctly specified.<br/>[2] The condition number is large, 8.95e+03. This might indicate that there are<br/>strong multicollinearity or other numerical problems."
      ],
      "text/plain": [
       "<class 'statsmodels.iolib.summary.Summary'>\n",
       "\"\"\"\n",
       "                            OLS Regression Results                            \n",
       "==============================================================================\n",
       "Dep. Variable:              saleprice   R-squared:                       0.761\n",
       "Model:                            OLS   Adj. R-squared:                  0.760\n",
       "Method:                 Least Squares   F-statistic:                     1156.\n",
       "Date:                Fri, 05 Jul 2019   Prob (F-statistic):               0.00\n",
       "Time:                        17:16:13   Log-Likelihood:                -17500.\n",
       "No. Observations:                1460   AIC:                         3.501e+04\n",
       "Df Residuals:                    1455   BIC:                         3.504e+04\n",
       "Df Model:                           4                                         \n",
       "Covariance Type:            nonrobust                                         \n",
       "===============================================================================\n",
       "                  coef    std err          t      P>|t|      [0.025      0.975]\n",
       "-------------------------------------------------------------------------------\n",
       "const       -9.925e+04   4639.866    -21.390      0.000   -1.08e+05   -9.01e+04\n",
       "overallqual  2.357e+04   1072.465     21.980      0.000    2.15e+04    2.57e+04\n",
       "grlivarea      45.6432      2.484     18.376      0.000      40.771      50.515\n",
       "garagecars   1.858e+04   1747.412     10.634      0.000    1.52e+04     2.2e+04\n",
       "totalbsmtsf    32.5203      2.838     11.459      0.000      26.953      38.087\n",
       "==============================================================================\n",
       "Omnibus:                      421.692   Durbin-Watson:                   1.969\n",
       "Prob(Omnibus):                  0.000   Jarque-Bera (JB):            36798.858\n",
       "Skew:                          -0.273   Prob(JB):                         0.00\n",
       "Kurtosis:                      27.589   Cond. No.                     8.95e+03\n",
       "==============================================================================\n",
       "\n",
       "Warnings:\n",
       "[1] Standard Errors assume that the covariance matrix of the errors is correctly specified.\n",
       "[2] The condition number is large, 8.95e+03. This might indicate that there are\n",
       "strong multicollinearity or other numerical problems.\n",
       "\"\"\""
      ]
     },
     "execution_count": 15,
     "metadata": {},
     "output_type": "execute_result"
    }
   ],
   "source": [
    "X = sm.add_constant(X)\n",
    "\n",
    "results = sm.OLS(Y, X).fit()\n",
    "\n",
    "results.summary()"
   ]
  },
  {
   "cell_type": "markdown",
   "metadata": {},
   "source": [
    "## Check Point 19.4: Interperting Coefficients\n",
    "\n",
    "### Questions:\n",
    "\n",
    "** 1. Which features are statistically significant and which aren't?**\n",
    "\n",
    "Using p-value of the features it's easy to see that garage area, which has a p-value of 0.102, is not really related to the price of houses. The remaining four features (overall quality, above ground living area, the number of cars a garage holds, and total basement square feet) all have a p-value of close to 0 so they are statistically significant!\n",
    "\n",
    "**2. Exclude the insignificant features. Did anything change?**\n",
    "\n",
    "Yes! The p-value for the remaining 4 features stayed the same, but the coefficients for garage cars and basement square feet changed.\n",
    "\n",
    "\n",
    "**3. Interpert the statistically significant  coefficients by quantifying their relations with house prices. Which features have a more prominent effect on house prices?**\n",
    "\n",
    "Based on the estimated coefficients we know the following:\n",
    "* One unit increase in overall quality is associated with a $23,550 increase in sales price\n",
    "* One unit increase in general living area square feet is associated with a $45.64 increase in sales price (a.k.a. $45.64/square foot)\n",
    "* One unit increase in number of cars per garage is associated with a $18,580 increase in sales price\n",
    "* One unit increase in total basement square feet is associated with a $32.52 increase in sales price (a.k.a. $32.52/square foot)\n",
    "\n",
    "Knowing this (and remembering what my correlation martix showed in my earlier assignment) I know that the two most prominent features are overall quality and general living area square feet.\n",
    "\n",
    "**4. Do the results sound reasonable to you? If not, try to explain.** \n",
    "\n",
    "Actually, yes, the results make total sense to me. People, myself included, are willing to spend more money on a house that is larger and in better shape, as shown by the data above!"
   ]
  },
  {
   "cell_type": "markdown",
   "metadata": {},
   "source": [
    "## Check Point 19.5: Evaluating Performance"
   ]
  },
  {
   "cell_type": "markdown",
   "metadata": {},
   "source": [
    "Questions: \n",
    "** 1. Looking at R-squared, adjusted R-squared, AIC, and BIC discuss goodness of fit.**\n",
    "\n",
    "Looking at the first model in which I have five features my R-squared is 0.761 and my adjusted R-Squared is 0.760 meaning that my model explains about 76% of variation in the outcome. Not too bad! It could improve some, which I plan on doing in the model iterations below. I will discuss AIC/BIC once I have other models to compare it to!\n",
    "\n",
    "**2. Do you think your model is satisfactory? Why?**\n",
    "\n",
    "My first model isn't too bad, but there is still 24% of variance that is unexplained. I hope that I can improve on this model with my future feature engineering!\n",
    "\n",
    "**3. Try adding or removing variables to see what happens.**\n",
    "\n",
    "**4. For each model I try, get the goodness of fit metrics and compare your models with each other. Which model is the best and why?**\n",
    "\n",
    "Using the information above I created two more models below (model 2 and model 3, respectively). Using the four features I looked first at how they were correlated to see if there were any strong connections I could use to create a new interaction feature. The largest correlation was between overall quality and number of cars in garage, so I ran my second model using this interaction. This model performed better than my original- it's adjusted R-squared value was 0.799 and it had an AIC of 3.47x10^4. \n",
    "\n",
    "Next, I decided to try the second strongest correlation, quality and general living area. This model preformed slightly better than my original model (adjusted R-squared of 0.776 and AIC of 3.492 x 10^4) but did not preform better than my second model. With this information I would, if I was going to work on these models further, keep model 2 and continue to engineer features to see if I could improve my adjusted R-squared value!"
   ]
  },
  {
   "cell_type": "code",
   "execution_count": 16,
   "metadata": {},
   "outputs": [
    {
     "data": {
      "text/html": [
       "<div>\n",
       "<style scoped>\n",
       "    .dataframe tbody tr th:only-of-type {\n",
       "        vertical-align: middle;\n",
       "    }\n",
       "\n",
       "    .dataframe tbody tr th {\n",
       "        vertical-align: top;\n",
       "    }\n",
       "\n",
       "    .dataframe thead th {\n",
       "        text-align: right;\n",
       "    }\n",
       "</style>\n",
       "<table border=\"1\" class=\"dataframe\">\n",
       "  <thead>\n",
       "    <tr style=\"text-align: right;\">\n",
       "      <th></th>\n",
       "      <th>const</th>\n",
       "      <th>overallqual</th>\n",
       "      <th>grlivarea</th>\n",
       "      <th>garagecars</th>\n",
       "      <th>totalbsmtsf</th>\n",
       "    </tr>\n",
       "  </thead>\n",
       "  <tbody>\n",
       "    <tr>\n",
       "      <th>const</th>\n",
       "      <td>NaN</td>\n",
       "      <td>NaN</td>\n",
       "      <td>NaN</td>\n",
       "      <td>NaN</td>\n",
       "      <td>NaN</td>\n",
       "    </tr>\n",
       "    <tr>\n",
       "      <th>overallqual</th>\n",
       "      <td>NaN</td>\n",
       "      <td>1.000000</td>\n",
       "      <td>0.593007</td>\n",
       "      <td>0.600671</td>\n",
       "      <td>0.537808</td>\n",
       "    </tr>\n",
       "    <tr>\n",
       "      <th>grlivarea</th>\n",
       "      <td>NaN</td>\n",
       "      <td>0.593007</td>\n",
       "      <td>1.000000</td>\n",
       "      <td>0.467247</td>\n",
       "      <td>0.454868</td>\n",
       "    </tr>\n",
       "    <tr>\n",
       "      <th>garagecars</th>\n",
       "      <td>NaN</td>\n",
       "      <td>0.600671</td>\n",
       "      <td>0.467247</td>\n",
       "      <td>1.000000</td>\n",
       "      <td>0.434585</td>\n",
       "    </tr>\n",
       "    <tr>\n",
       "      <th>totalbsmtsf</th>\n",
       "      <td>NaN</td>\n",
       "      <td>0.537808</td>\n",
       "      <td>0.454868</td>\n",
       "      <td>0.434585</td>\n",
       "      <td>1.000000</td>\n",
       "    </tr>\n",
       "  </tbody>\n",
       "</table>\n",
       "</div>"
      ],
      "text/plain": [
       "             const  overallqual  grlivarea  garagecars  totalbsmtsf\n",
       "const          NaN          NaN        NaN         NaN          NaN\n",
       "overallqual    NaN     1.000000   0.593007    0.600671     0.537808\n",
       "grlivarea      NaN     0.593007   1.000000    0.467247     0.454868\n",
       "garagecars     NaN     0.600671   0.467247    1.000000     0.434585\n",
       "totalbsmtsf    NaN     0.537808   0.454868    0.434585     1.000000"
      ]
     },
     "execution_count": 16,
     "metadata": {},
     "output_type": "execute_result"
    }
   ],
   "source": [
    "# Let's make some interaction features! First, let's do a correlation matrix of just these 4 features.\n",
    "X.corr()"
   ]
  },
  {
   "cell_type": "markdown",
   "metadata": {},
   "source": [
    "#### Model 2"
   ]
  },
  {
   "cell_type": "code",
   "execution_count": 17,
   "metadata": {},
   "outputs": [],
   "source": [
    "# Creating a new feature for the interaction of overall quality and number of cars\n",
    "housedf['quality_and_cars'] = housedf['overallqual'] * housedf['garagecars']"
   ]
  },
  {
   "cell_type": "code",
   "execution_count": 18,
   "metadata": {},
   "outputs": [],
   "source": [
    "X = housedf[['overallqual', 'grlivarea', 'garagecars', 'totalbsmtsf', 'quality_and_cars']] \n",
    "Y = housedf.saleprice"
   ]
  },
  {
   "cell_type": "code",
   "execution_count": 19,
   "metadata": {},
   "outputs": [
    {
     "data": {
      "text/html": [
       "<table class=\"simpletable\">\n",
       "<caption>OLS Regression Results</caption>\n",
       "<tr>\n",
       "  <th>Dep. Variable:</th>        <td>saleprice</td>    <th>  R-squared:         </th> <td>   0.799</td> \n",
       "</tr>\n",
       "<tr>\n",
       "  <th>Model:</th>                   <td>OLS</td>       <th>  Adj. R-squared:    </th> <td>   0.798</td> \n",
       "</tr>\n",
       "<tr>\n",
       "  <th>Method:</th>             <td>Least Squares</td>  <th>  F-statistic:       </th> <td>   1153.</td> \n",
       "</tr>\n",
       "<tr>\n",
       "  <th>Date:</th>             <td>Fri, 05 Jul 2019</td> <th>  Prob (F-statistic):</th>  <td>  0.00</td>  \n",
       "</tr>\n",
       "<tr>\n",
       "  <th>Time:</th>                 <td>17:16:13</td>     <th>  Log-Likelihood:    </th> <td> -17374.</td> \n",
       "</tr>\n",
       "<tr>\n",
       "  <th>No. Observations:</th>      <td>  1460</td>      <th>  AIC:               </th> <td>3.476e+04</td>\n",
       "</tr>\n",
       "<tr>\n",
       "  <th>Df Residuals:</th>          <td>  1454</td>      <th>  BIC:               </th> <td>3.479e+04</td>\n",
       "</tr>\n",
       "<tr>\n",
       "  <th>Df Model:</th>              <td>     5</td>      <th>                     </th>     <td> </td>    \n",
       "</tr>\n",
       "<tr>\n",
       "  <th>Covariance Type:</th>      <td>nonrobust</td>    <th>                     </th>     <td> </td>    \n",
       "</tr>\n",
       "</table>\n",
       "<table class=\"simpletable\">\n",
       "<tr>\n",
       "          <td></td>            <th>coef</th>     <th>std err</th>      <th>t</th>      <th>P>|t|</th>  <th>[0.025</th>    <th>0.975]</th>  \n",
       "</tr>\n",
       "<tr>\n",
       "  <th>const</th>            <td> 5.279e+04</td> <td> 1.01e+04</td> <td>    5.210</td> <td> 0.000</td> <td> 3.29e+04</td> <td> 7.27e+04</td>\n",
       "</tr>\n",
       "<tr>\n",
       "  <th>overallqual</th>      <td>-2805.2371</td> <td> 1874.404</td> <td>   -1.497</td> <td> 0.135</td> <td>-6482.063</td> <td>  871.588</td>\n",
       "</tr>\n",
       "<tr>\n",
       "  <th>grlivarea</th>        <td>   43.2178</td> <td>    2.284</td> <td>   18.920</td> <td> 0.000</td> <td>   38.737</td> <td>   47.699</td>\n",
       "</tr>\n",
       "<tr>\n",
       "  <th>garagecars</th>       <td>-5.741e+04</td> <td> 4867.199</td> <td>  -11.794</td> <td> 0.000</td> <td> -6.7e+04</td> <td>-4.79e+04</td>\n",
       "</tr>\n",
       "<tr>\n",
       "  <th>totalbsmtsf</th>      <td>   25.3502</td> <td>    2.640</td> <td>    9.601</td> <td> 0.000</td> <td>   20.171</td> <td>   30.530</td>\n",
       "</tr>\n",
       "<tr>\n",
       "  <th>quality_and_cars</th> <td> 1.354e+04</td> <td>  819.077</td> <td>   16.536</td> <td> 0.000</td> <td> 1.19e+04</td> <td> 1.52e+04</td>\n",
       "</tr>\n",
       "</table>\n",
       "<table class=\"simpletable\">\n",
       "<tr>\n",
       "  <th>Omnibus:</th>       <td>523.032</td> <th>  Durbin-Watson:     </th> <td>   1.975</td> \n",
       "</tr>\n",
       "<tr>\n",
       "  <th>Prob(Omnibus):</th> <td> 0.000</td>  <th>  Jarque-Bera (JB):  </th> <td>38829.558</td>\n",
       "</tr>\n",
       "<tr>\n",
       "  <th>Skew:</th>          <td>-0.767</td>  <th>  Prob(JB):          </th> <td>    0.00</td> \n",
       "</tr>\n",
       "<tr>\n",
       "  <th>Kurtosis:</th>      <td>28.218</td>  <th>  Cond. No.          </th> <td>2.31e+04</td> \n",
       "</tr>\n",
       "</table><br/><br/>Warnings:<br/>[1] Standard Errors assume that the covariance matrix of the errors is correctly specified.<br/>[2] The condition number is large, 2.31e+04. This might indicate that there are<br/>strong multicollinearity or other numerical problems."
      ],
      "text/plain": [
       "<class 'statsmodels.iolib.summary.Summary'>\n",
       "\"\"\"\n",
       "                            OLS Regression Results                            \n",
       "==============================================================================\n",
       "Dep. Variable:              saleprice   R-squared:                       0.799\n",
       "Model:                            OLS   Adj. R-squared:                  0.798\n",
       "Method:                 Least Squares   F-statistic:                     1153.\n",
       "Date:                Fri, 05 Jul 2019   Prob (F-statistic):               0.00\n",
       "Time:                        17:16:13   Log-Likelihood:                -17374.\n",
       "No. Observations:                1460   AIC:                         3.476e+04\n",
       "Df Residuals:                    1454   BIC:                         3.479e+04\n",
       "Df Model:                           5                                         \n",
       "Covariance Type:            nonrobust                                         \n",
       "====================================================================================\n",
       "                       coef    std err          t      P>|t|      [0.025      0.975]\n",
       "------------------------------------------------------------------------------------\n",
       "const             5.279e+04   1.01e+04      5.210      0.000    3.29e+04    7.27e+04\n",
       "overallqual      -2805.2371   1874.404     -1.497      0.135   -6482.063     871.588\n",
       "grlivarea           43.2178      2.284     18.920      0.000      38.737      47.699\n",
       "garagecars       -5.741e+04   4867.199    -11.794      0.000    -6.7e+04   -4.79e+04\n",
       "totalbsmtsf         25.3502      2.640      9.601      0.000      20.171      30.530\n",
       "quality_and_cars  1.354e+04    819.077     16.536      0.000    1.19e+04    1.52e+04\n",
       "==============================================================================\n",
       "Omnibus:                      523.032   Durbin-Watson:                   1.975\n",
       "Prob(Omnibus):                  0.000   Jarque-Bera (JB):            38829.558\n",
       "Skew:                          -0.767   Prob(JB):                         0.00\n",
       "Kurtosis:                      28.218   Cond. No.                     2.31e+04\n",
       "==============================================================================\n",
       "\n",
       "Warnings:\n",
       "[1] Standard Errors assume that the covariance matrix of the errors is correctly specified.\n",
       "[2] The condition number is large, 2.31e+04. This might indicate that there are\n",
       "strong multicollinearity or other numerical problems.\n",
       "\"\"\""
      ]
     },
     "execution_count": 19,
     "metadata": {},
     "output_type": "execute_result"
    }
   ],
   "source": [
    "X = sm.add_constant(X)\n",
    "\n",
    "results = sm.OLS(Y, X).fit()\n",
    "\n",
    "results.summary()"
   ]
  },
  {
   "cell_type": "markdown",
   "metadata": {},
   "source": [
    "#### Model 3"
   ]
  },
  {
   "cell_type": "code",
   "execution_count": 20,
   "metadata": {},
   "outputs": [],
   "source": [
    "# Creating a new feature for the interaction of overall quality and above ground living areas\n",
    "housedf['quality_and_livingarea'] = housedf['overallqual'] * housedf['grlivarea']"
   ]
  },
  {
   "cell_type": "code",
   "execution_count": 21,
   "metadata": {},
   "outputs": [],
   "source": [
    "X = housedf[['overallqual', 'grlivarea', 'garagecars', 'totalbsmtsf', 'quality_and_livingarea']] \n",
    "Y = housedf.saleprice"
   ]
  },
  {
   "cell_type": "code",
   "execution_count": 22,
   "metadata": {},
   "outputs": [
    {
     "data": {
      "text/html": [
       "<table class=\"simpletable\">\n",
       "<caption>OLS Regression Results</caption>\n",
       "<tr>\n",
       "  <th>Dep. Variable:</th>        <td>saleprice</td>    <th>  R-squared:         </th> <td>   0.776</td> \n",
       "</tr>\n",
       "<tr>\n",
       "  <th>Model:</th>                   <td>OLS</td>       <th>  Adj. R-squared:    </th> <td>   0.775</td> \n",
       "</tr>\n",
       "<tr>\n",
       "  <th>Method:</th>             <td>Least Squares</td>  <th>  F-statistic:       </th> <td>   1007.</td> \n",
       "</tr>\n",
       "<tr>\n",
       "  <th>Date:</th>             <td>Fri, 05 Jul 2019</td> <th>  Prob (F-statistic):</th>  <td>  0.00</td>  \n",
       "</tr>\n",
       "<tr>\n",
       "  <th>Time:</th>                 <td>17:16:13</td>     <th>  Log-Likelihood:    </th> <td> -17452.</td> \n",
       "</tr>\n",
       "<tr>\n",
       "  <th>No. Observations:</th>      <td>  1460</td>      <th>  AIC:               </th> <td>3.492e+04</td>\n",
       "</tr>\n",
       "<tr>\n",
       "  <th>Df Residuals:</th>          <td>  1454</td>      <th>  BIC:               </th> <td>3.495e+04</td>\n",
       "</tr>\n",
       "<tr>\n",
       "  <th>Df Model:</th>              <td>     5</td>      <th>                     </th>     <td> </td>    \n",
       "</tr>\n",
       "<tr>\n",
       "  <th>Covariance Type:</th>      <td>nonrobust</td>    <th>                     </th>     <td> </td>    \n",
       "</tr>\n",
       "</table>\n",
       "<table class=\"simpletable\">\n",
       "<tr>\n",
       "             <td></td>               <th>coef</th>     <th>std err</th>      <th>t</th>      <th>P>|t|</th>  <th>[0.025</th>    <th>0.975]</th>  \n",
       "</tr>\n",
       "<tr>\n",
       "  <th>const</th>                  <td> 4227.9698</td> <td> 1.13e+04</td> <td>    0.374</td> <td> 0.709</td> <td> -1.8e+04</td> <td> 2.64e+04</td>\n",
       "</tr>\n",
       "<tr>\n",
       "  <th>overallqual</th>            <td> 8099.3796</td> <td> 1867.015</td> <td>    4.338</td> <td> 0.000</td> <td> 4437.048</td> <td> 1.18e+04</td>\n",
       "</tr>\n",
       "<tr>\n",
       "  <th>grlivarea</th>              <td>  -25.4931</td> <td>    7.529</td> <td>   -3.386</td> <td> 0.001</td> <td>  -40.262</td> <td>  -10.724</td>\n",
       "</tr>\n",
       "<tr>\n",
       "  <th>garagecars</th>             <td> 1.994e+04</td> <td> 1696.630</td> <td>   11.752</td> <td> 0.000</td> <td> 1.66e+04</td> <td> 2.33e+04</td>\n",
       "</tr>\n",
       "<tr>\n",
       "  <th>totalbsmtsf</th>            <td>   27.4834</td> <td>    2.793</td> <td>    9.841</td> <td> 0.000</td> <td>   22.005</td> <td>   32.962</td>\n",
       "</tr>\n",
       "<tr>\n",
       "  <th>quality_and_livingarea</th> <td>   10.5054</td> <td>    1.054</td> <td>    9.970</td> <td> 0.000</td> <td>    8.439</td> <td>   12.572</td>\n",
       "</tr>\n",
       "</table>\n",
       "<table class=\"simpletable\">\n",
       "<tr>\n",
       "  <th>Omnibus:</th>       <td>1099.058</td> <th>  Durbin-Watson:     </th>  <td>   1.996</td> \n",
       "</tr>\n",
       "<tr>\n",
       "  <th>Prob(Omnibus):</th>  <td> 0.000</td>  <th>  Jarque-Bera (JB):  </th> <td>170920.268</td>\n",
       "</tr>\n",
       "<tr>\n",
       "  <th>Skew:</th>           <td>-2.615</td>  <th>  Prob(JB):          </th>  <td>    0.00</td> \n",
       "</tr>\n",
       "<tr>\n",
       "  <th>Kurtosis:</th>       <td>55.747</td>  <th>  Cond. No.          </th>  <td>1.29e+05</td> \n",
       "</tr>\n",
       "</table><br/><br/>Warnings:<br/>[1] Standard Errors assume that the covariance matrix of the errors is correctly specified.<br/>[2] The condition number is large, 1.29e+05. This might indicate that there are<br/>strong multicollinearity or other numerical problems."
      ],
      "text/plain": [
       "<class 'statsmodels.iolib.summary.Summary'>\n",
       "\"\"\"\n",
       "                            OLS Regression Results                            \n",
       "==============================================================================\n",
       "Dep. Variable:              saleprice   R-squared:                       0.776\n",
       "Model:                            OLS   Adj. R-squared:                  0.775\n",
       "Method:                 Least Squares   F-statistic:                     1007.\n",
       "Date:                Fri, 05 Jul 2019   Prob (F-statistic):               0.00\n",
       "Time:                        17:16:13   Log-Likelihood:                -17452.\n",
       "No. Observations:                1460   AIC:                         3.492e+04\n",
       "Df Residuals:                    1454   BIC:                         3.495e+04\n",
       "Df Model:                           5                                         \n",
       "Covariance Type:            nonrobust                                         \n",
       "==========================================================================================\n",
       "                             coef    std err          t      P>|t|      [0.025      0.975]\n",
       "------------------------------------------------------------------------------------------\n",
       "const                   4227.9698   1.13e+04      0.374      0.709    -1.8e+04    2.64e+04\n",
       "overallqual             8099.3796   1867.015      4.338      0.000    4437.048    1.18e+04\n",
       "grlivarea                -25.4931      7.529     -3.386      0.001     -40.262     -10.724\n",
       "garagecars              1.994e+04   1696.630     11.752      0.000    1.66e+04    2.33e+04\n",
       "totalbsmtsf               27.4834      2.793      9.841      0.000      22.005      32.962\n",
       "quality_and_livingarea    10.5054      1.054      9.970      0.000       8.439      12.572\n",
       "==============================================================================\n",
       "Omnibus:                     1099.058   Durbin-Watson:                   1.996\n",
       "Prob(Omnibus):                  0.000   Jarque-Bera (JB):           170920.268\n",
       "Skew:                          -2.615   Prob(JB):                         0.00\n",
       "Kurtosis:                      55.747   Cond. No.                     1.29e+05\n",
       "==============================================================================\n",
       "\n",
       "Warnings:\n",
       "[1] Standard Errors assume that the covariance matrix of the errors is correctly specified.\n",
       "[2] The condition number is large, 1.29e+05. This might indicate that there are\n",
       "strong multicollinearity or other numerical problems.\n",
       "\"\"\""
      ]
     },
     "execution_count": 22,
     "metadata": {},
     "output_type": "execute_result"
    }
   ],
   "source": [
    "X = sm.add_constant(X)\n",
    "\n",
    "results = sm.OLS(Y, X).fit()\n",
    "\n",
    "results.summary()"
   ]
  },
  {
   "cell_type": "markdown",
   "metadata": {},
   "source": [
    "## Check Point 19.6: Making Predictions"
   ]
  },
  {
   "cell_type": "markdown",
   "metadata": {},
   "source": [
    "#### Questions:"
   ]
  },
  {
   "cell_type": "markdown",
   "metadata": {},
   "source": [
    "**1. After splitting, training, and testing your data and making predictions discuss the goodness of fit of your model.**\n",
    "\n",
    "My evaluation of goodness of fit for my model is discussed above!\n",
    "\n",
    "\n",
    "**2. Predict the house prices in the test set. Is the model preformance satisfactory? Why?**\n",
    "\n",
    "My adjusted R-squared score for my test set is 0.84, which is actually better preforming than my original training data. I feel that this is a good start, but I would like my adjusted R-squared to be closer to the 90's if possible. I plan on iterating below to see if I can make any improvements. \n",
    "\n",
    "\n",
    "**3. Play with your variables and see if you can improve your model. **\n",
    "\n",
    "See below! "
   ]
  },
  {
   "cell_type": "code",
   "execution_count": 23,
   "metadata": {},
   "outputs": [
    {
     "name": "stdout",
     "output_type": "stream",
     "text": [
      "The number of observations in the training set is 1168\n",
      "The  number of observations in the test set is 292\n",
      "                            OLS Regression Results                            \n",
      "==============================================================================\n",
      "Dep. Variable:              saleprice   R-squared:                       0.795\n",
      "Model:                            OLS   Adj. R-squared:                  0.794\n",
      "Method:                 Least Squares   F-statistic:                     902.1\n",
      "Date:                Fri, 05 Jul 2019   Prob (F-statistic):               0.00\n",
      "Time:                        17:16:14   Log-Likelihood:                -13900.\n",
      "No. Observations:                1168   AIC:                         2.781e+04\n",
      "Df Residuals:                    1162   BIC:                         2.784e+04\n",
      "Df Model:                           5                                         \n",
      "Covariance Type:            nonrobust                                         \n",
      "====================================================================================\n",
      "                       coef    std err          t      P>|t|      [0.025      0.975]\n",
      "------------------------------------------------------------------------------------\n",
      "const             5.576e+04   1.17e+04      4.747      0.000    3.27e+04    7.88e+04\n",
      "overallqual      -2364.7562   2169.448     -1.090      0.276   -6621.230    1891.718\n",
      "grlivarea           40.5162      2.547     15.906      0.000      35.519      45.514\n",
      "garagecars         -5.7e+04   5629.833    -10.124      0.000    -6.8e+04   -4.59e+04\n",
      "totalbsmtsf         21.7476      2.867      7.586      0.000      16.123      27.372\n",
      "quality_and_cars  1.365e+04    945.712     14.428      0.000    1.18e+04    1.55e+04\n",
      "==============================================================================\n",
      "Omnibus:                      467.160   Durbin-Watson:                   1.860\n",
      "Prob(Omnibus):                  0.000   Jarque-Bera (JB):            28843.809\n",
      "Skew:                          -1.005   Prob(JB):                         0.00\n",
      "Kurtosis:                      27.262   Cond. No.                     2.40e+04\n",
      "==============================================================================\n",
      "\n",
      "Warnings:\n",
      "[1] Standard Errors assume that the covariance matrix of the errors is correctly specified.\n",
      "[2] The condition number is large, 2.4e+04. This might indicate that there are\n",
      "strong multicollinearity or other numerical problems.\n"
     ]
    }
   ],
   "source": [
    "X = housedf[['overallqual', 'grlivarea', 'garagecars', 'totalbsmtsf', 'quality_and_cars']] \n",
    "Y = housedf.saleprice\n",
    "\n",
    "X_train, X_test, Y_train, Y_test = train_test_split(X, Y, test_size = 0.2, random_state = 465)\n",
    "\n",
    "print('The number of observations in the training set is {}'.format(X_train.shape[0]))\n",
    "print('The  number of observations in the test set is {}'.format(X_test.shape[0]))\n",
    "\n",
    "X_train = sm.add_constant(X_train)\n",
    "\n",
    "results = sm.OLS(Y_train, X_train).fit()\n",
    "\n",
    "print(results.summary())"
   ]
  },
  {
   "cell_type": "code",
   "execution_count": 24,
   "metadata": {},
   "outputs": [
    {
     "name": "stdout",
     "output_type": "stream",
     "text": [
      "MAE of prediction is: 23658.18979018892\n",
      "MSE of prediction is: 1288370011.5771213\n",
      "RMSE of prediction is: 35893.87150443821\n",
      "MAPE of prediction is: 14.050922780181324\n"
     ]
    },
    {
     "data": {
      "image/png": "[encoded data removed]",
      "text/plain": [
       "<Figure size 432x288 with 1 Axes>"
      ]
     },
     "metadata": {},
     "output_type": "display_data"
    }
   ],
   "source": [
    "# Prediction time, woo!\n",
    "X_test = sm.add_constant(X_test)\n",
    "\n",
    "Y_preds = results.predict(X_test)\n",
    "\n",
    "# The plot thickens!\n",
    "plt.scatter(Y_test, Y_preds)\n",
    "plt.plot(Y_test, Y_test, color =\"red\")\n",
    "plt.xlabel(\"true values\")\n",
    "plt.ylabel('predicted values')\n",
    "plt.title('House Prices: true and predicted values')\n",
    "\n",
    "\n",
    "print('MAE of prediction is: {}'.format(mean_absolute_error(Y_test, Y_preds)))\n",
    "print('MSE of prediction is: {}'.format(mse(Y_test, Y_preds)))\n",
    "print('RMSE of prediction is: {}'.format(rmse(Y_test, Y_preds)))\n",
    "print('MAPE of prediction is: {}'.format(np.mean(np.abs((Y_test - Y_preds)/Y_test)) * 100))"
   ]
  },
  {
   "cell_type": "code",
   "execution_count": 25,
   "metadata": {
    "scrolled": true
   },
   "outputs": [
    {
     "data": {
      "text/html": [
       "<table class=\"simpletable\">\n",
       "<caption>OLS Regression Results</caption>\n",
       "<tr>\n",
       "  <th>Dep. Variable:</th>        <td>saleprice</td>    <th>  R-squared:         </th> <td>   0.827</td> \n",
       "</tr>\n",
       "<tr>\n",
       "  <th>Model:</th>                   <td>OLS</td>       <th>  Adj. R-squared:    </th> <td>   0.824</td> \n",
       "</tr>\n",
       "<tr>\n",
       "  <th>Method:</th>             <td>Least Squares</td>  <th>  F-statistic:       </th> <td>   273.4</td> \n",
       "</tr>\n",
       "<tr>\n",
       "  <th>Date:</th>             <td>Fri, 05 Jul 2019</td> <th>  Prob (F-statistic):</th> <td>1.09e-106</td>\n",
       "</tr>\n",
       "<tr>\n",
       "  <th>Time:</th>                 <td>17:16:14</td>     <th>  Log-Likelihood:    </th> <td> -3461.8</td> \n",
       "</tr>\n",
       "<tr>\n",
       "  <th>No. Observations:</th>      <td>   292</td>      <th>  AIC:               </th> <td>   6936.</td> \n",
       "</tr>\n",
       "<tr>\n",
       "  <th>Df Residuals:</th>          <td>   286</td>      <th>  BIC:               </th> <td>   6958.</td> \n",
       "</tr>\n",
       "<tr>\n",
       "  <th>Df Model:</th>              <td>     5</td>      <th>                     </th>     <td> </td>    \n",
       "</tr>\n",
       "<tr>\n",
       "  <th>Covariance Type:</th>      <td>nonrobust</td>    <th>                     </th>     <td> </td>    \n",
       "</tr>\n",
       "</table>\n",
       "<table class=\"simpletable\">\n",
       "<tr>\n",
       "          <td></td>            <th>coef</th>     <th>std err</th>      <th>t</th>      <th>P>|t|</th>  <th>[0.025</th>    <th>0.975]</th>  \n",
       "</tr>\n",
       "<tr>\n",
       "  <th>const</th>            <td> 3.909e+04</td> <td> 1.95e+04</td> <td>    2.010</td> <td> 0.045</td> <td>  803.868</td> <td> 7.74e+04</td>\n",
       "</tr>\n",
       "<tr>\n",
       "  <th>overallqual</th>      <td>-5646.6430</td> <td> 3617.925</td> <td>   -1.561</td> <td> 0.120</td> <td>-1.28e+04</td> <td> 1474.495</td>\n",
       "</tr>\n",
       "<tr>\n",
       "  <th>grlivarea</th>        <td>   56.3019</td> <td>    5.034</td> <td>   11.183</td> <td> 0.000</td> <td>   46.393</td> <td>   66.211</td>\n",
       "</tr>\n",
       "<tr>\n",
       "  <th>garagecars</th>       <td>-6.047e+04</td> <td> 9390.498</td> <td>   -6.440</td> <td> 0.000</td> <td> -7.9e+04</td> <td> -4.2e+04</td>\n",
       "</tr>\n",
       "<tr>\n",
       "  <th>totalbsmtsf</th>      <td>   48.8665</td> <td>    6.616</td> <td>    7.386</td> <td> 0.000</td> <td>   35.844</td> <td>   61.889</td>\n",
       "</tr>\n",
       "<tr>\n",
       "  <th>quality_and_cars</th> <td> 1.303e+04</td> <td> 1594.207</td> <td>    8.171</td> <td> 0.000</td> <td> 9888.102</td> <td> 1.62e+04</td>\n",
       "</tr>\n",
       "</table>\n",
       "<table class=\"simpletable\">\n",
       "<tr>\n",
       "  <th>Omnibus:</th>       <td>102.528</td> <th>  Durbin-Watson:     </th> <td>   2.228</td> \n",
       "</tr>\n",
       "<tr>\n",
       "  <th>Prob(Omnibus):</th> <td> 0.000</td>  <th>  Jarque-Bera (JB):  </th> <td> 727.229</td> \n",
       "</tr>\n",
       "<tr>\n",
       "  <th>Skew:</th>          <td> 1.232</td>  <th>  Prob(JB):          </th> <td>1.21e-158</td>\n",
       "</tr>\n",
       "<tr>\n",
       "  <th>Kurtosis:</th>      <td>10.328</td>  <th>  Cond. No.          </th> <td>2.03e+04</td> \n",
       "</tr>\n",
       "</table><br/><br/>Warnings:<br/>[1] Standard Errors assume that the covariance matrix of the errors is correctly specified.<br/>[2] The condition number is large, 2.03e+04. This might indicate that there are<br/>strong multicollinearity or other numerical problems."
      ],
      "text/plain": [
       "<class 'statsmodels.iolib.summary.Summary'>\n",
       "\"\"\"\n",
       "                            OLS Regression Results                            \n",
       "==============================================================================\n",
       "Dep. Variable:              saleprice   R-squared:                       0.827\n",
       "Model:                            OLS   Adj. R-squared:                  0.824\n",
       "Method:                 Least Squares   F-statistic:                     273.4\n",
       "Date:                Fri, 05 Jul 2019   Prob (F-statistic):          1.09e-106\n",
       "Time:                        17:16:14   Log-Likelihood:                -3461.8\n",
       "No. Observations:                 292   AIC:                             6936.\n",
       "Df Residuals:                     286   BIC:                             6958.\n",
       "Df Model:                           5                                         \n",
       "Covariance Type:            nonrobust                                         \n",
       "====================================================================================\n",
       "                       coef    std err          t      P>|t|      [0.025      0.975]\n",
       "------------------------------------------------------------------------------------\n",
       "const             3.909e+04   1.95e+04      2.010      0.045     803.868    7.74e+04\n",
       "overallqual      -5646.6430   3617.925     -1.561      0.120   -1.28e+04    1474.495\n",
       "grlivarea           56.3019      5.034     11.183      0.000      46.393      66.211\n",
       "garagecars       -6.047e+04   9390.498     -6.440      0.000    -7.9e+04    -4.2e+04\n",
       "totalbsmtsf         48.8665      6.616      7.386      0.000      35.844      61.889\n",
       "quality_and_cars  1.303e+04   1594.207      8.171      0.000    9888.102    1.62e+04\n",
       "==============================================================================\n",
       "Omnibus:                      102.528   Durbin-Watson:                   2.228\n",
       "Prob(Omnibus):                  0.000   Jarque-Bera (JB):              727.229\n",
       "Skew:                           1.232   Prob(JB):                    1.21e-158\n",
       "Kurtosis:                      10.328   Cond. No.                     2.03e+04\n",
       "==============================================================================\n",
       "\n",
       "Warnings:\n",
       "[1] Standard Errors assume that the covariance matrix of the errors is correctly specified.\n",
       "[2] The condition number is large, 2.03e+04. This might indicate that there are\n",
       "strong multicollinearity or other numerical problems.\n",
       "\"\"\""
      ]
     },
     "execution_count": 25,
     "metadata": {},
     "output_type": "execute_result"
    }
   ],
   "source": [
    "X_test = sm.add_constant(X_test)\n",
    "\n",
    "results_pred = sm.OLS(Y_test, X_test).fit()\n",
    "\n",
    "results_pred.summary()"
   ]
  },
  {
   "cell_type": "markdown",
   "metadata": {},
   "source": [
    "## Prediction Set 2: Adding in More Features"
   ]
  },
  {
   "cell_type": "code",
   "execution_count": 26,
   "metadata": {},
   "outputs": [
    {
     "name": "stdout",
     "output_type": "stream",
     "text": [
      "The number of observations in the training set is 1168\n",
      "The  number of observations in the test set is 292\n",
      "                            OLS Regression Results                            \n",
      "==============================================================================\n",
      "Dep. Variable:              saleprice   R-squared:                       0.796\n",
      "Model:                            OLS   Adj. R-squared:                  0.795\n",
      "Method:                 Least Squares   F-statistic:                     647.1\n",
      "Date:                Fri, 05 Jul 2019   Prob (F-statistic):               0.00\n",
      "Time:                        17:16:14   Log-Likelihood:                -13897.\n",
      "No. Observations:                1168   AIC:                         2.781e+04\n",
      "Df Residuals:                    1160   BIC:                         2.785e+04\n",
      "Df Model:                           7                                         \n",
      "Covariance Type:            nonrobust                                         \n",
      "====================================================================================\n",
      "                       coef    std err          t      P>|t|      [0.025      0.975]\n",
      "------------------------------------------------------------------------------------\n",
      "const             5.131e+04   1.19e+04      4.318      0.000     2.8e+04    7.46e+04\n",
      "overallqual      -2003.3143   2184.339     -0.917      0.359   -6289.012    2282.383\n",
      "grlivarea           37.4535      2.999     12.490      0.000      31.570      43.337\n",
      "garagecars       -5.733e+04   5624.232    -10.193      0.000   -6.84e+04   -4.63e+04\n",
      "totalbsmtsf         14.5712      4.295      3.392      0.001       6.144      22.999\n",
      "quality_and_cars   1.36e+04    944.639     14.402      0.000    1.18e+04    1.55e+04\n",
      "firstflrsf          11.5167      5.043      2.284      0.023       1.623      21.411\n",
      "fullbath          1343.4678   2564.537      0.524      0.600   -3688.183    6375.118\n",
      "==============================================================================\n",
      "Omnibus:                      455.309   Durbin-Watson:                   1.858\n",
      "Prob(Omnibus):                  0.000   Jarque-Bera (JB):            27720.490\n",
      "Skew:                          -0.961   Prob(JB):                         0.00\n",
      "Kurtosis:                      26.789   Cond. No.                     2.86e+04\n",
      "==============================================================================\n",
      "\n",
      "Warnings:\n",
      "[1] Standard Errors assume that the covariance matrix of the errors is correctly specified.\n",
      "[2] The condition number is large, 2.86e+04. This might indicate that there are\n",
      "strong multicollinearity or other numerical problems.\n"
     ]
    }
   ],
   "source": [
    "X = housedf[['overallqual', 'grlivarea', 'garagecars', 'totalbsmtsf', 'quality_and_cars', 'firstflrsf', 'fullbath']] \n",
    "Y = housedf.saleprice\n",
    "\n",
    "X_train, X_test, Y_train, Y_test = train_test_split(X, Y, test_size = 0.2, random_state = 465)\n",
    "\n",
    "print('The number of observations in the training set is {}'.format(X_train.shape[0]))\n",
    "print('The  number of observations in the test set is {}'.format(X_test.shape[0]))\n",
    "\n",
    "X_train = sm.add_constant(X_train)\n",
    "\n",
    "results = sm.OLS(Y_train, X_train).fit()\n",
    "\n",
    "print(results.summary())"
   ]
  },
  {
   "cell_type": "code",
   "execution_count": 27,
   "metadata": {},
   "outputs": [
    {
     "name": "stdout",
     "output_type": "stream",
     "text": [
      "MAE of prediction is: 23865.37961864266\n",
      "MSE of prediction is: 1293214496.990425\n",
      "RMSE of prediction is: 35961.291647970946\n",
      "MAPE of prediction is: 14.186950823131253\n"
     ]
    },
    {
     "data": {
      "image/png": "[encoded data removed]",
      "text/plain": [
       "<Figure size 432x288 with 1 Axes>"
      ]
     },
     "metadata": {},
     "output_type": "display_data"
    }
   ],
   "source": [
    "X_test = sm.add_constant(X_test)\n",
    "\n",
    "Y_preds = results.predict(X_test)\n",
    "\n",
    "# The plot thickens!\n",
    "plt.scatter(Y_test, Y_preds)\n",
    "plt.plot(Y_test, Y_test, color =\"red\")\n",
    "plt.xlabel(\"true values\")\n",
    "plt.ylabel('predicted values')\n",
    "plt.title('House Prices: true and predicted values')\n",
    "\n",
    "\n",
    "print('MAE of prediction is: {}'.format(mean_absolute_error(Y_test, Y_preds)))\n",
    "print('MSE of prediction is: {}'.format(mse(Y_test, Y_preds)))\n",
    "print('RMSE of prediction is: {}'.format(rmse(Y_test, Y_preds)))\n",
    "print('MAPE of prediction is: {}'.format(np.mean(np.abs((Y_test - Y_preds)/Y_test)) * 100))"
   ]
  },
  {
   "cell_type": "code",
   "execution_count": 28,
   "metadata": {
    "scrolled": true
   },
   "outputs": [
    {
     "data": {
      "text/html": [
       "<table class=\"simpletable\">\n",
       "<caption>OLS Regression Results</caption>\n",
       "<tr>\n",
       "  <th>Dep. Variable:</th>        <td>saleprice</td>    <th>  R-squared:         </th> <td>   0.827</td> \n",
       "</tr>\n",
       "<tr>\n",
       "  <th>Model:</th>                   <td>OLS</td>       <th>  Adj. R-squared:    </th> <td>   0.823</td> \n",
       "</tr>\n",
       "<tr>\n",
       "  <th>Method:</th>             <td>Least Squares</td>  <th>  F-statistic:       </th> <td>   194.0</td> \n",
       "</tr>\n",
       "<tr>\n",
       "  <th>Date:</th>             <td>Fri, 05 Jul 2019</td> <th>  Prob (F-statistic):</th> <td>2.83e-104</td>\n",
       "</tr>\n",
       "<tr>\n",
       "  <th>Time:</th>                 <td>17:16:14</td>     <th>  Log-Likelihood:    </th> <td> -3461.7</td> \n",
       "</tr>\n",
       "<tr>\n",
       "  <th>No. Observations:</th>      <td>   292</td>      <th>  AIC:               </th> <td>   6939.</td> \n",
       "</tr>\n",
       "<tr>\n",
       "  <th>Df Residuals:</th>          <td>   284</td>      <th>  BIC:               </th> <td>   6969.</td> \n",
       "</tr>\n",
       "<tr>\n",
       "  <th>Df Model:</th>              <td>     7</td>      <th>                     </th>     <td> </td>    \n",
       "</tr>\n",
       "<tr>\n",
       "  <th>Covariance Type:</th>      <td>nonrobust</td>    <th>                     </th>     <td> </td>    \n",
       "</tr>\n",
       "</table>\n",
       "<table class=\"simpletable\">\n",
       "<tr>\n",
       "          <td></td>            <th>coef</th>     <th>std err</th>      <th>t</th>      <th>P>|t|</th>  <th>[0.025</th>    <th>0.975]</th>  \n",
       "</tr>\n",
       "<tr>\n",
       "  <th>const</th>            <td> 3.977e+04</td> <td> 2.01e+04</td> <td>    1.977</td> <td> 0.049</td> <td>  176.816</td> <td> 7.94e+04</td>\n",
       "</tr>\n",
       "<tr>\n",
       "  <th>overallqual</th>      <td>-5958.1991</td> <td> 3767.718</td> <td>   -1.581</td> <td> 0.115</td> <td>-1.34e+04</td> <td> 1457.997</td>\n",
       "</tr>\n",
       "<tr>\n",
       "  <th>grlivarea</th>        <td>   55.4841</td> <td>    5.993</td> <td>    9.258</td> <td> 0.000</td> <td>   43.687</td> <td>   67.281</td>\n",
       "</tr>\n",
       "<tr>\n",
       "  <th>garagecars</th>       <td> -6.11e+04</td> <td> 9606.332</td> <td>   -6.360</td> <td> 0.000</td> <td>   -8e+04</td> <td>-4.22e+04</td>\n",
       "</tr>\n",
       "<tr>\n",
       "  <th>totalbsmtsf</th>      <td>   49.5251</td> <td>   10.186</td> <td>    4.862</td> <td> 0.000</td> <td>   29.475</td> <td>   69.575</td>\n",
       "</tr>\n",
       "<tr>\n",
       "  <th>quality_and_cars</th> <td> 1.311e+04</td> <td> 1619.865</td> <td>    8.090</td> <td> 0.000</td> <td> 9916.567</td> <td> 1.63e+04</td>\n",
       "</tr>\n",
       "<tr>\n",
       "  <th>firstflrsf</th>       <td>   -0.6663</td> <td>   11.265</td> <td>   -0.059</td> <td> 0.953</td> <td>  -22.840</td> <td>   21.507</td>\n",
       "</tr>\n",
       "<tr>\n",
       "  <th>fullbath</th>         <td> 1733.1637</td> <td> 5223.609</td> <td>    0.332</td> <td> 0.740</td> <td>-8548.739</td> <td>  1.2e+04</td>\n",
       "</tr>\n",
       "</table>\n",
       "<table class=\"simpletable\">\n",
       "<tr>\n",
       "  <th>Omnibus:</th>       <td>103.555</td> <th>  Durbin-Watson:     </th> <td>   2.230</td> \n",
       "</tr>\n",
       "<tr>\n",
       "  <th>Prob(Omnibus):</th> <td> 0.000</td>  <th>  Jarque-Bera (JB):  </th> <td> 738.840</td> \n",
       "</tr>\n",
       "<tr>\n",
       "  <th>Skew:</th>          <td> 1.245</td>  <th>  Prob(JB):          </th> <td>3.66e-161</td>\n",
       "</tr>\n",
       "<tr>\n",
       "  <th>Kurtosis:</th>      <td>10.384</td>  <th>  Cond. No.          </th> <td>2.44e+04</td> \n",
       "</tr>\n",
       "</table><br/><br/>Warnings:<br/>[1] Standard Errors assume that the covariance matrix of the errors is correctly specified.<br/>[2] The condition number is large, 2.44e+04. This might indicate that there are<br/>strong multicollinearity or other numerical problems."
      ],
      "text/plain": [
       "<class 'statsmodels.iolib.summary.Summary'>\n",
       "\"\"\"\n",
       "                            OLS Regression Results                            \n",
       "==============================================================================\n",
       "Dep. Variable:              saleprice   R-squared:                       0.827\n",
       "Model:                            OLS   Adj. R-squared:                  0.823\n",
       "Method:                 Least Squares   F-statistic:                     194.0\n",
       "Date:                Fri, 05 Jul 2019   Prob (F-statistic):          2.83e-104\n",
       "Time:                        17:16:14   Log-Likelihood:                -3461.7\n",
       "No. Observations:                 292   AIC:                             6939.\n",
       "Df Residuals:                     284   BIC:                             6969.\n",
       "Df Model:                           7                                         \n",
       "Covariance Type:            nonrobust                                         \n",
       "====================================================================================\n",
       "                       coef    std err          t      P>|t|      [0.025      0.975]\n",
       "------------------------------------------------------------------------------------\n",
       "const             3.977e+04   2.01e+04      1.977      0.049     176.816    7.94e+04\n",
       "overallqual      -5958.1991   3767.718     -1.581      0.115   -1.34e+04    1457.997\n",
       "grlivarea           55.4841      5.993      9.258      0.000      43.687      67.281\n",
       "garagecars        -6.11e+04   9606.332     -6.360      0.000      -8e+04   -4.22e+04\n",
       "totalbsmtsf         49.5251     10.186      4.862      0.000      29.475      69.575\n",
       "quality_and_cars  1.311e+04   1619.865      8.090      0.000    9916.567    1.63e+04\n",
       "firstflrsf          -0.6663     11.265     -0.059      0.953     -22.840      21.507\n",
       "fullbath          1733.1637   5223.609      0.332      0.740   -8548.739     1.2e+04\n",
       "==============================================================================\n",
       "Omnibus:                      103.555   Durbin-Watson:                   2.230\n",
       "Prob(Omnibus):                  0.000   Jarque-Bera (JB):              738.840\n",
       "Skew:                           1.245   Prob(JB):                    3.66e-161\n",
       "Kurtosis:                      10.384   Cond. No.                     2.44e+04\n",
       "==============================================================================\n",
       "\n",
       "Warnings:\n",
       "[1] Standard Errors assume that the covariance matrix of the errors is correctly specified.\n",
       "[2] The condition number is large, 2.44e+04. This might indicate that there are\n",
       "strong multicollinearity or other numerical problems.\n",
       "\"\"\""
      ]
     },
     "execution_count": 28,
     "metadata": {},
     "output_type": "execute_result"
    }
   ],
   "source": [
    "X_test = sm.add_constant(X_test)\n",
    "\n",
    "results_pred = sm.OLS(Y_test, X_test).fit()\n",
    "\n",
    "results_pred.summary()"
   ]
  },
  {
   "cell_type": "markdown",
   "metadata": {},
   "source": [
    "## Check Point 19.7: Overfitting and Regularization"
   ]
  },
  {
   "cell_type": "markdown",
   "metadata": {},
   "source": [
    "**Assignment:**\n",
    "\n",
    "* Reimplement model from last checkpoint\n",
    "\n",
    "* Try OLS, LASSO, Ridge, and ElasticNet regressions. Need to do a k-fold cross-validation and choose the best hyperparameter values for your models. Which model is best? Why?\n",
    "\n",
    "I'm not totally sure how to do a k-fold cross-validation, even after looking at the documentation, so we will just have to settle for our evaluating our models below exactly as they are. Based on the training R-squared score alone I would either go with the OLS or the LASSO because they have the highest score (only slightly higher than the Ridge regression). "
   ]
  },
  {
   "cell_type": "code",
   "execution_count": 41,
   "metadata": {},
   "outputs": [
    {
     "name": "stdout",
     "output_type": "stream",
     "text": [
      "The number of observations in the training set is 1168\n",
      "The  number of observations in the test set is 292\n",
      "R-squared of the model in training set is: 0.7951433797633953\n",
      "----- Test set statistics -----\n",
      "R-squared of the model in test set is: 0.8080984808977572\n",
      "Mean absolute error of the prediction is: 23658.189790188804\n",
      "Mean squared error of the prediction is: 1288370011.5771134\n",
      "Root mean squared error of the prediction is: 35893.8715044381\n",
      "Mean absolute percentage of error of the prediction is: 14.050922780181224\n"
     ]
    }
   ],
   "source": [
    "# OLS Regression\n",
    "X = housedf[['overallqual', 'grlivarea', 'garagecars', 'totalbsmtsf', 'quality_and_cars']] \n",
    "Y = housedf.saleprice\n",
    "\n",
    "X_train, X_test, Y_train, Y_test = train_test_split(X, Y, test_size = 0.2, random_state = 465)\n",
    "\n",
    "print('The number of observations in the training set is {}'.format(X_train.shape[0]))\n",
    "print('The  number of observations in the test set is {}'.format(X_test.shape[0]))\n",
    "\n",
    "# Fitting an OLS model using SkLearn instead of my go-to\n",
    "lrm= LinearRegression()\n",
    "lrm.fit(X_train, Y_train)\n",
    "\n",
    "# Making predictions\n",
    "Y_preds_train = lrm.predict(X_train)\n",
    "Y_preds_test= lrm.predict(X_test)\n",
    "\n",
    "print('R-squared of the model in training set is: {}'.format(lrm.score(X_train, Y_train)))\n",
    "print('----- Test set statistics -----')\n",
    "print('R-squared of the model in test set is: {}'.format(lrm.score(X_test, Y_test)))\n",
    "print('Mean absolute error of the prediction is: {}'.format(mean_absolute_error(Y_test, Y_preds_test)))\n",
    "print('Mean squared error of the prediction is: {}'.format(mse(Y_test, Y_preds_test)))\n",
    "print('Root mean squared error of the prediction is: {}'.format(rmse(Y_test, Y_preds_test)))\n",
    "print('Mean absolute percentage of error of the prediction is: {}'.format(np.mean(np.abs((Y_test- Y_preds_test)/Y_test))*100))"
   ]
  },
  {
   "cell_type": "markdown",
   "metadata": {},
   "source": [
    "## Ridge Regression"
   ]
  },
  {
   "cell_type": "code",
   "execution_count": 30,
   "metadata": {},
   "outputs": [
    {
     "name": "stdout",
     "output_type": "stream",
     "text": [
      "R-squared of the model in training set is: 0.7951317587948815\n",
      "----- Test set statistics -----\n",
      "R-squared of the model in test set is: 0.8080614618144882\n",
      "Mean absolute error of the prediction is: 23639.724253102824\n",
      "Mean squared error of the prediction is: 1288618546.7474594\n",
      "Root mean squared error of the prediction is: 35897.33342112558\n",
      "Mean absolute percentage of error of the prediction is: 14.020018475524958\n"
     ]
    }
   ],
   "source": [
    "from sklearn.linear_model import Ridge\n",
    "\n",
    "ridgeregr = Ridge()\n",
    "ridgeregr.fit(X_train, Y_train)\n",
    "\n",
    "# Time to make predictions!\n",
    "Y_preds_train = ridgeregr.predict(X_train)\n",
    "Y_preds_test = ridgeregr.predict(X_test)\n",
    "\n",
    "print('R-squared of the model in training set is: {}'.format(ridgeregr.score(X_train, Y_train)))\n",
    "print('----- Test set statistics -----')\n",
    "print('R-squared of the model in test set is: {}'.format(ridgeregr.score(X_test, Y_test)))\n",
    "print('Mean absolute error of the prediction is: {}'.format(mean_absolute_error(Y_test, Y_preds_test)))\n",
    "print('Mean squared error of the prediction is: {}'.format(mse(Y_test, Y_preds_test)))\n",
    "print('Root mean squared error of the prediction is: {}'.format(rmse(Y_test, Y_preds_test)))\n",
    "print('Mean absolute percentage of error of the prediction is: {}'.format(np.mean(np.abs((Y_test- Y_preds_test)/Y_test))*100))"
   ]
  },
  {
   "cell_type": "markdown",
   "metadata": {},
   "source": [
    "## LASSO Regression"
   ]
  },
  {
   "cell_type": "code",
   "execution_count": 33,
   "metadata": {},
   "outputs": [
    {
     "name": "stdout",
     "output_type": "stream",
     "text": [
      "R-squared of the model in training set is: 0.7951433695034045\n",
      "----- Test set statistics -----\n",
      "R-squared of the model in test set is: 0.8080975447108315\n",
      "Mean absolute error of the prediction is: 23657.807576778592\n",
      "Mean squared error of the prediction is: 1288376296.8590949\n",
      "Root mean squared error of the prediction is: 35893.95905802389\n",
      "Mean absolute percentage of error of the prediction is: 14.050131848724403\n"
     ]
    }
   ],
   "source": [
    "from sklearn.linear_model import Lasso\n",
    "\n",
    "lassoregr = Lasso()\n",
    "lassoregr.fit(X_train, Y_train)\n",
    "\n",
    "# Time to make predictions!\n",
    "Y_preds_train = lassoregr.predict(X_train)\n",
    "Y_preds_test = lassoregr.predict(X_test)\n",
    "\n",
    "print('R-squared of the model in training set is: {}'.format(lassoregr.score(X_train, Y_train)))\n",
    "print('----- Test set statistics -----')\n",
    "print('R-squared of the model in test set is: {}'.format(lassoregr.score(X_test, Y_test)))\n",
    "print('Mean absolute error of the prediction is: {}'.format(mean_absolute_error(Y_test, Y_preds_test)))\n",
    "print('Mean squared error of the prediction is: {}'.format(mse(Y_test, Y_preds_test)))\n",
    "print('Root mean squared error of the prediction is: {}'.format(rmse(Y_test, Y_preds_test)))\n",
    "print('Mean absolute percentage of error of the prediction is: {}'.format(np.mean(np.abs((Y_test- Y_preds_test)/Y_test))*100))"
   ]
  },
  {
   "cell_type": "markdown",
   "metadata": {},
   "source": [
    "## ElasticNet Regression"
   ]
  },
  {
   "cell_type": "code",
   "execution_count": 34,
   "metadata": {},
   "outputs": [
    {
     "name": "stdout",
     "output_type": "stream",
     "text": [
      "R-squared of the model in training set is: 0.7770695154844262\n",
      "----- Test set statistics -----\n",
      "R-squared of the model in test set is: 0.7875118327798458\n",
      "Mean absolute error of the prediction is: 24080.359088493504\n",
      "Mean squared error of the prediction is: 1426582675.0207841\n",
      "Root mean squared error of the prediction is: 37770.12940169499\n",
      "Mean absolute percentage of error of the prediction is: 14.159603779711116\n"
     ]
    }
   ],
   "source": [
    "from sklearn.linear_model import ElasticNet\n",
    "\n",
    "elasticregr = ElasticNet( l1_ratio=0.5)\n",
    "elasticregr.fit(X_train, Y_train)\n",
    "\n",
    "# Time to make predictions!\n",
    "Y_preds_train = elasticregr.predict(X_train)\n",
    "Y_preds_test = elasticregr.predict(X_test)\n",
    "\n",
    "print('R-squared of the model in training set is: {}'.format(elasticregr.score(X_train, Y_train)))\n",
    "print('----- Test set statistics -----')\n",
    "print('R-squared of the model in test set is: {}'.format(elasticregr.score(X_test, Y_test)))\n",
    "print('Mean absolute error of the prediction is: {}'.format(mean_absolute_error(Y_test, Y_preds_test)))\n",
    "print('Mean squared error of the prediction is: {}'.format(mse(Y_test, Y_preds_test)))\n",
    "print('Root mean squared error of the prediction is: {}'.format(rmse(Y_test, Y_preds_test)))\n",
    "print('Mean absolute percentage of error of the prediction is: {}'.format(np.mean(np.abs((Y_test- Y_preds_test)/Y_test))*100))"
   ]
  }
 ],
 "metadata": {
  "kernelspec": {
   "display_name": "Python 3",
   "language": "python",
   "name": "python3"
  },
  "language_info": {
   "codemirror_mode": {
    "name": "ipython",
    "version": 3
   },
   "file_extension": ".py",
   "mimetype": "text/x-python",
   "name": "python",
   "nbconvert_exporter": "python",
   "pygments_lexer": "ipython3",
   "version": "3.7.3"
  }
 },
 "nbformat": 4,
 "nbformat_minor": 2
}
