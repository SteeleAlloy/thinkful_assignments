{
 "cells": [
  {
   "cell_type": "markdown",
   "metadata": {},
   "source": [
    "## Checkpoint 2: Regression vs. Classification"
   ]
  },
  {
   "cell_type": "markdown",
   "metadata": {},
   "source": [
    "#### Assignment:\n",
    "For each of the following situations, decide if you would model using a regression or classification model. Discuss your reasoning with your mentor next time you meet.\n"
   ]
  },
  {
   "cell_type": "markdown",
   "metadata": {},
   "source": [
    "**1. The amount a person will spend on a given site in the next 24 months.**\n",
    "\n",
    "Amount spent, which is the target variable here, is continuous (unless, of course the website is for a dollar store or only has specific prices for everything) so I would use a regression model for this example."
   ]
  },
  {
   "cell_type": "markdown",
   "metadata": {},
   "source": [
    "**2. What color car someone is going to buy.**\n",
    "\n",
    "The target variable (car color) is categorical (there are only so many colors a car can come in, even including custom paint jobs) so I would use a classification model for this example."
   ]
  },
  {
   "cell_type": "markdown",
   "metadata": {},
   "source": [
    "**3. How many children a family will have.**\n",
    "\n",
    "Since the target variable is not a category (there is no limit to how many children a family can have- just ask the Duggers!) I would use a regression model for this example."
   ]
  },
  {
   "cell_type": "markdown",
   "metadata": {},
   "source": [
    "**4. If someone will sign up for a service.**\n",
    "\n",
    "The target variable (signup) is a categorical variable, so I would use a classification model for this example.\n"
   ]
  },
  {
   "cell_type": "markdown",
   "metadata": {},
   "source": [
    "**5. The number of times someone will get sick in a year.**\n",
    "\n",
    "Since the target variable is continuous (how many times someone gets sick in a year) I would choose to a regression for this example.\n"
   ]
  },
  {
   "cell_type": "markdown",
   "metadata": {},
   "source": [
    "**6. The probability someone will get sick in the next month.**\n",
    "\n",
    "Since the target variable (sick or not sick) is categorical I would choose to do a classification for this example.\n"
   ]
  },
  {
   "cell_type": "markdown",
   "metadata": {},
   "source": [
    "**7. Which medicine will work best for a given patient.**\n",
    "\n",
    "This is a slightly weird example, as I can see the value in doing both a classification and a regression model, depending on how we interperate the target variable (effectiveness of medicine). If we just wanted to know if the medicine worked or not I would use a classification model, but if we wanted a continuous measurement of how effective a given medicine was I would use a regression model."
   ]
  },
  {
   "cell_type": "markdown",
   "metadata": {},
   "source": [
    "## 18.5: Naive Bayes Guided Example"
   ]
  },
  {
   "cell_type": "code",
   "execution_count": 2,
   "metadata": {},
   "outputs": [],
   "source": [
    "%matplotlib inline\n",
    "import numpy as np\n",
    "import pandas as pd\n",
    "import scipy\n",
    "import sklearn\n",
    "import matplotlib.pyplot as plt\n",
    "import seaborn as sns\n",
    "import os"
   ]
  },
  {
   "cell_type": "code",
   "execution_count": 3,
   "metadata": {},
   "outputs": [],
   "source": [
    "# Grab and process the raw data.\n",
    "data_path = (\"https://raw.githubusercontent.com/Thinkful-Ed/data-201-resources/\"\n",
    "             \"master/sms_spam_collection/SMSSpamCollection\"\n",
    "            )\n",
    "sms_raw = pd.read_csv(data_path, delimiter= '\\t', header=None)\n",
    "sms_raw.columns = ['spam', 'message']"
   ]
  },
  {
   "cell_type": "code",
   "execution_count": 4,
   "metadata": {},
   "outputs": [],
   "source": [
    "# Create an easy to access list of words commonly found in spam emails\n",
    "keywords = ['click', 'offer', 'winner', 'buy', 'free', 'cash', 'urgent', 'enhancement', 'fast']\n",
    "\n",
    "for key in keywords:\n",
    "    # Note that we add spaces around the key so that we're getting the word,\n",
    "    # not just pattern matching.\n",
    "    sms_raw[str(key)] = sms_raw.message.str.contains(\n",
    "        ' ' + str(key) + ' ',\n",
    "        case=False\n",
    "    )"
   ]
  },
  {
   "cell_type": "code",
   "execution_count": 5,
   "metadata": {},
   "outputs": [],
   "source": [
    "# Adding the option of an all caps message to the llikelyhood of being a spam message\n",
    "sms_raw['allcaps'] = sms_raw.message.str.isupper()"
   ]
  },
  {
   "cell_type": "code",
   "execution_count": 6,
   "metadata": {},
   "outputs": [],
   "source": [
    "# Turns spam column into a boolean so we can do stats on it\n",
    "sms_raw['spam'] = (sms_raw['spam'] == 'spam')\n",
    "# Note that if you run this cell a second time everything will become false.\n",
    "# So... Don't."
   ]
  },
  {
   "cell_type": "code",
   "execution_count": 7,
   "metadata": {},
   "outputs": [
    {
     "data": {
      "text/plain": [
       "<matplotlib.axes._subplots.AxesSubplot at 0x161929014a8>"
      ]
     },
     "execution_count": 7,
     "metadata": {},
     "output_type": "execute_result"
    },
    {
     "data": {
      "image/png": "[encoded data removed]",
      "text/plain": [
       "<Figure size 432x288 with 2 Axes>"
      ]
     },
     "metadata": {
      "needs_background": "light"
     },
     "output_type": "display_data"
    }
   ],
   "source": [
    "# This visual is a combined pandas correlation matrix and a seaborn heatmap.\n",
    "sns.heatmap(sms_raw.corr())"
   ]
  },
  {
   "cell_type": "markdown",
   "metadata": {},
   "source": [
    "That is actually a great looking plot for us. Most of the words show strong independence from each other. The only exceptions are free:offer and cash:winner. For now, let's keep everything in the dataset.\n",
    "\n",
    "Before we actually run the model we have to build out our training data. SKLearn required you to specify an outcome (y or dependent variable) and your inputs (x or independent variables). We'll do that below under the titles data and target."
   ]
  },
  {
   "cell_type": "code",
   "execution_count": 8,
   "metadata": {},
   "outputs": [],
   "source": [
    "data = sms_raw[keywords + ['allcaps']]\n",
    "target = sms_raw['spam']"
   ]
  },
  {
   "cell_type": "code",
   "execution_count": 9,
   "metadata": {},
   "outputs": [
    {
     "name": "stdout",
     "output_type": "stream",
     "text": [
      "Number of mislabeled points out of a total 5572 points : 604\n"
     ]
    }
   ],
   "source": [
    "# Our data is binary / boolean, so we're importing the Bernoulli classifier.\n",
    "from sklearn.naive_bayes import BernoulliNB\n",
    "\n",
    "# Instantiate our model and store it in a new variable.\n",
    "bnb = BernoulliNB()\n",
    "\n",
    "# Fit our model to the data.\n",
    "bnb.fit(data, target)\n",
    "\n",
    "# Classify, storing the result in a new variable.\n",
    "y_pred = bnb.predict(data)\n",
    "\n",
    "# Display our results.\n",
    "print(\"Number of mislabeled points out of a total {} points : {}\".format(\n",
    "    data.shape[0],\n",
    "    (target != y_pred).sum()\n",
    "))"
   ]
  },
  {
   "cell_type": "markdown",
   "metadata": {},
   "source": [
    "Now try adding some of your own features and seeing if you can improve the model's performance. Also try comparing the other types of Naive Bayes Classifier and see which one is best. You can find the function names for training other kinds of Naive Bayes in the documentation. It's a one word change."
   ]
  },
  {
   "cell_type": "markdown",
   "metadata": {},
   "source": [
    "## 18.6: Challenge: Sentiment Analysis with Naive Bayes"
   ]
  },
  {
   "cell_type": "markdown",
   "metadata": {},
   "source": [
    "Now that you've spent some time tinkering with an example Naive Bayes Classifier, it's time to build your own.\n",
    "\n",
    "We've mentioned that Naive Bayes is particularly good for text classification problems. Before we made a spam filter. Now we'll perform a sentiment analysis, classifying whether feedback left on a website is either positive or negative.\n",
    "\n",
    "Again the UCI Machine Learning database has a nice labeled dataset of sentiment labelled sentences for us to use. This dataset was created for the paper From Group to Individual Labels using Deep Features, Kotzias et. al., KDD 2015.\n",
    "\n",
    "Pick one of the company data files and build your own classifier. When you're satisfied with its performance (at this point just using the accuracy measure shown in the example), test it on one of the other datasets to see how well these kinds of classifiers translate from one context to another.\n",
    "\n",
    "Include your model and a brief writeup of your feature engineering and selection process to submit and review with your mentor."
   ]
  },
  {
   "cell_type": "markdown",
   "metadata": {},
   "source": [
    "Working notes on this project:\n",
    "* Trying to figure out if the review posted by the customer is positive or negative. Since this is a binary situation (either pos. or neg.) there isn't any need to create two keyword searches. I'm going to look for positive reviews based on keywords I identify after a quick look at the text file.\n",
    "\n",
    "* Need to figure out how to make a boolean column to help do stats- like if there is a true in ANY of the keywords return a 1 so I can do stats with that column. Ideas?"
   ]
  },
  {
   "cell_type": "code",
   "execution_count": 10,
   "metadata": {},
   "outputs": [
    {
     "data": {
      "text/plain": [
       "'C:\\\\Users\\\\gothv\\\\Practice\\\\Thinkful- Assignments'"
      ]
     },
     "execution_count": 10,
     "metadata": {},
     "output_type": "execute_result"
    }
   ],
   "source": [
    "os.getcwd()"
   ]
  },
  {
   "cell_type": "code",
   "execution_count": 11,
   "metadata": {},
   "outputs": [],
   "source": [
    "os.chdir('C:\\\\Users\\\\gothv\\\\OneDrive\\\\Desktop\\\\Data\\\\Datasets\\\\sentiment labelled sentences\\\\sentiment labelled sentences')"
   ]
  },
  {
   "cell_type": "code",
   "execution_count": 12,
   "metadata": {},
   "outputs": [
    {
     "data": {
      "text/plain": [
       "'C:\\\\Users\\\\gothv\\\\OneDrive\\\\Desktop\\\\Data\\\\Datasets\\\\sentiment labelled sentences\\\\sentiment labelled sentences'"
      ]
     },
     "execution_count": 12,
     "metadata": {},
     "output_type": "execute_result"
    }
   ],
   "source": [
    "os.getcwd()"
   ]
  },
  {
   "cell_type": "code",
   "execution_count": 13,
   "metadata": {},
   "outputs": [],
   "source": [
    "sentiment_df = pd.read_fwf('amazon_cells_labelled.txt', delimiter= '\\t', header = None)\n",
    "sentiment_df.columns = ['message']\n"
   ]
  },
  {
   "cell_type": "code",
   "execution_count": 14,
   "metadata": {},
   "outputs": [
    {
     "data": {
      "text/plain": [
       "message    object\n",
       "dtype: object"
      ]
     },
     "execution_count": 14,
     "metadata": {},
     "output_type": "execute_result"
    }
   ],
   "source": [
    "sentiment_df.dtypes"
   ]
  },
  {
   "cell_type": "code",
   "execution_count": 15,
   "metadata": {},
   "outputs": [],
   "source": [
    "# Convert all messages to lowercase to better look for keywords\n",
    "sentiment_df['message'] = sentiment_df['message'].str.lower()"
   ]
  },
  {
   "cell_type": "code",
   "execution_count": 16,
   "metadata": {},
   "outputs": [],
   "source": [
    "# Create an easy to access list of words commonly found in positive reviews\n",
    "keywords = ['excellent', 'great', 'good', 'perfect', 'nice', 'wise', 'recommended', 'love', 'better', 'comfortable', 'cool', 'happy', 'simple', \n",
    "            'tremendous', 'exactly', 'best', 'must', 'loved', 'well', 'ideal', 'highly', 'fine', 'right', 'useful', 'all', 'reasonable']\n",
    "\n",
    "for key in keywords:\n",
    "    # Note that we add spaces around the key so that we're getting the word,\n",
    "    # not just pattern matching.\n",
    "   # sentiment_df[str(key)] = sentiment_df.message.str.contains(\n",
    "    #    ' ' + str(key) + ' ',\n",
    "     #   case= True\n",
    "    #)\n",
    "    sentiment_df[str(key)] = sentiment_df.message.str.contains(str(key), case= True)"
   ]
  },
  {
   "cell_type": "code",
   "execution_count": 17,
   "metadata": {},
   "outputs": [
    {
     "data": {
      "text/html": [
       "<div>\n",
       "<style scoped>\n",
       "    .dataframe tbody tr th:only-of-type {\n",
       "        vertical-align: middle;\n",
       "    }\n",
       "\n",
       "    .dataframe tbody tr th {\n",
       "        vertical-align: top;\n",
       "    }\n",
       "\n",
       "    .dataframe thead th {\n",
       "        text-align: right;\n",
       "    }\n",
       "</style>\n",
       "<table border=\"1\" class=\"dataframe\">\n",
       "  <thead>\n",
       "    <tr style=\"text-align: right;\">\n",
       "      <th></th>\n",
       "      <th>message</th>\n",
       "      <th>excellent</th>\n",
       "      <th>great</th>\n",
       "      <th>good</th>\n",
       "      <th>perfect</th>\n",
       "      <th>nice</th>\n",
       "      <th>wise</th>\n",
       "      <th>recommended</th>\n",
       "      <th>love</th>\n",
       "      <th>better</th>\n",
       "      <th>...</th>\n",
       "      <th>must</th>\n",
       "      <th>loved</th>\n",
       "      <th>well</th>\n",
       "      <th>ideal</th>\n",
       "      <th>highly</th>\n",
       "      <th>fine</th>\n",
       "      <th>right</th>\n",
       "      <th>useful</th>\n",
       "      <th>all</th>\n",
       "      <th>reasonable</th>\n",
       "    </tr>\n",
       "  </thead>\n",
       "  <tbody>\n",
       "    <tr>\n",
       "      <th>0</th>\n",
       "      <td>so there is no way for me to plug it in here i...</td>\n",
       "      <td>False</td>\n",
       "      <td>False</td>\n",
       "      <td>False</td>\n",
       "      <td>False</td>\n",
       "      <td>False</td>\n",
       "      <td>False</td>\n",
       "      <td>False</td>\n",
       "      <td>False</td>\n",
       "      <td>False</td>\n",
       "      <td>...</td>\n",
       "      <td>False</td>\n",
       "      <td>False</td>\n",
       "      <td>False</td>\n",
       "      <td>False</td>\n",
       "      <td>False</td>\n",
       "      <td>False</td>\n",
       "      <td>False</td>\n",
       "      <td>False</td>\n",
       "      <td>False</td>\n",
       "      <td>False</td>\n",
       "    </tr>\n",
       "    <tr>\n",
       "      <th>1</th>\n",
       "      <td>good case, excellent value.\\t1</td>\n",
       "      <td>True</td>\n",
       "      <td>False</td>\n",
       "      <td>True</td>\n",
       "      <td>False</td>\n",
       "      <td>False</td>\n",
       "      <td>False</td>\n",
       "      <td>False</td>\n",
       "      <td>False</td>\n",
       "      <td>False</td>\n",
       "      <td>...</td>\n",
       "      <td>False</td>\n",
       "      <td>False</td>\n",
       "      <td>False</td>\n",
       "      <td>False</td>\n",
       "      <td>False</td>\n",
       "      <td>False</td>\n",
       "      <td>False</td>\n",
       "      <td>False</td>\n",
       "      <td>False</td>\n",
       "      <td>False</td>\n",
       "    </tr>\n",
       "    <tr>\n",
       "      <th>2</th>\n",
       "      <td>great for the jawbone.\\t1</td>\n",
       "      <td>False</td>\n",
       "      <td>True</td>\n",
       "      <td>False</td>\n",
       "      <td>False</td>\n",
       "      <td>False</td>\n",
       "      <td>False</td>\n",
       "      <td>False</td>\n",
       "      <td>False</td>\n",
       "      <td>False</td>\n",
       "      <td>...</td>\n",
       "      <td>False</td>\n",
       "      <td>False</td>\n",
       "      <td>False</td>\n",
       "      <td>False</td>\n",
       "      <td>False</td>\n",
       "      <td>False</td>\n",
       "      <td>False</td>\n",
       "      <td>False</td>\n",
       "      <td>False</td>\n",
       "      <td>False</td>\n",
       "    </tr>\n",
       "    <tr>\n",
       "      <th>3</th>\n",
       "      <td>tied to charger for conversations lasting more...</td>\n",
       "      <td>False</td>\n",
       "      <td>False</td>\n",
       "      <td>False</td>\n",
       "      <td>False</td>\n",
       "      <td>False</td>\n",
       "      <td>False</td>\n",
       "      <td>False</td>\n",
       "      <td>False</td>\n",
       "      <td>False</td>\n",
       "      <td>...</td>\n",
       "      <td>False</td>\n",
       "      <td>False</td>\n",
       "      <td>False</td>\n",
       "      <td>False</td>\n",
       "      <td>False</td>\n",
       "      <td>False</td>\n",
       "      <td>False</td>\n",
       "      <td>False</td>\n",
       "      <td>False</td>\n",
       "      <td>False</td>\n",
       "    </tr>\n",
       "    <tr>\n",
       "      <th>4</th>\n",
       "      <td>the mic is great.\\t1</td>\n",
       "      <td>False</td>\n",
       "      <td>True</td>\n",
       "      <td>False</td>\n",
       "      <td>False</td>\n",
       "      <td>False</td>\n",
       "      <td>False</td>\n",
       "      <td>False</td>\n",
       "      <td>False</td>\n",
       "      <td>False</td>\n",
       "      <td>...</td>\n",
       "      <td>False</td>\n",
       "      <td>False</td>\n",
       "      <td>False</td>\n",
       "      <td>False</td>\n",
       "      <td>False</td>\n",
       "      <td>False</td>\n",
       "      <td>False</td>\n",
       "      <td>False</td>\n",
       "      <td>False</td>\n",
       "      <td>False</td>\n",
       "    </tr>\n",
       "  </tbody>\n",
       "</table>\n",
       "<p>5 rows × 27 columns</p>\n",
       "</div>"
      ],
      "text/plain": [
       "                                             message  excellent  great   good  \\\n",
       "0  so there is no way for me to plug it in here i...      False  False  False   \n",
       "1                     good case, excellent value.\\t1       True  False   True   \n",
       "2                          great for the jawbone.\\t1      False   True  False   \n",
       "3  tied to charger for conversations lasting more...      False  False  False   \n",
       "4                               the mic is great.\\t1      False   True  False   \n",
       "\n",
       "   perfect   nice   wise  recommended   love  better  ...   must  loved  \\\n",
       "0    False  False  False        False  False   False  ...  False  False   \n",
       "1    False  False  False        False  False   False  ...  False  False   \n",
       "2    False  False  False        False  False   False  ...  False  False   \n",
       "3    False  False  False        False  False   False  ...  False  False   \n",
       "4    False  False  False        False  False   False  ...  False  False   \n",
       "\n",
       "    well  ideal  highly   fine  right  useful    all  reasonable  \n",
       "0  False  False   False  False  False   False  False       False  \n",
       "1  False  False   False  False  False   False  False       False  \n",
       "2  False  False   False  False  False   False  False       False  \n",
       "3  False  False   False  False  False   False  False       False  \n",
       "4  False  False   False  False  False   False  False       False  \n",
       "\n",
       "[5 rows x 27 columns]"
      ]
     },
     "execution_count": 17,
     "metadata": {},
     "output_type": "execute_result"
    }
   ],
   "source": [
    "sentiment_df.head()"
   ]
  },
  {
   "cell_type": "code",
   "execution_count": 18,
   "metadata": {},
   "outputs": [
    {
     "data": {
      "image/png": "[encoded data removed]",
      "text/plain": [
       "<Figure size 432x288 with 2 Axes>"
      ]
     },
     "metadata": {
      "needs_background": "light"
     },
     "output_type": "display_data"
    }
   ],
   "source": [
    "# This matrix sort of tells us something, but not really. Colors that are lighter have a higher correlation a.k.a. are realted more!\n",
    "sns.heatmap(sentiment_df.corr());"
   ]
  },
  {
   "cell_type": "code",
   "execution_count": 19,
   "metadata": {},
   "outputs": [],
   "source": [
    "# Creating dummy columns below to return a number value for each of the keywords\n",
    "sentiment_df['excellent_p'] = sentiment_df.excellent.map({True: 1, False:0})\n",
    "sentiment_df['great_p'] = sentiment_df.great.map({True:1, False:0})\n",
    "sentiment_df['good_p'] = sentiment_df.good.map({True:1, False:0})\n",
    "sentiment_df['perfect_p'] = sentiment_df.perfect.map({True:1, False:0})\n",
    "sentiment_df['nice_p'] = sentiment_df.nice.map({True:1, False:0})\n",
    "sentiment_df['wise_p'] = sentiment_df.wise.map({True:1, False:0})\n",
    "sentiment_df['recommended_p'] = sentiment_df.recommended.map({True:1, False:0})\n",
    "sentiment_df['love_p'] = sentiment_df.love.map({True:1, False:0})\n",
    "sentiment_df['better_p'] = sentiment_df.better.map({True:1, False:0})\n",
    "sentiment_df['comfortable_p'] = sentiment_df.comfortable.map({True:1, False:0})\n",
    "sentiment_df['cool_p'] = sentiment_df.cool.map({True:1, False:0})\n",
    "sentiment_df['happy_p'] = sentiment_df.happy.map({True:1, False:0})\n",
    "sentiment_df['simple_p'] = sentiment_df.simple.map({True:1, False:0})\n",
    "sentiment_df['tremendous_p'] = sentiment_df.tremendous.map({True:1, False:0})\n",
    "sentiment_df['exactly_p'] = sentiment_df.exactly.map({True:1, False:0})\n",
    "sentiment_df['best_p'] = sentiment_df.best.map({True:1, False:0})\n",
    "sentiment_df['must_p'] = sentiment_df.must.map({True:1, False:0})\n",
    "sentiment_df['loved_p'] = sentiment_df.loved.map({True:1, False:0})\n",
    "sentiment_df['well_p'] = sentiment_df.well.map({True:1, False:0})\n",
    "sentiment_df['ideal_p'] = sentiment_df.ideal.map({True:1, False:0})\n",
    "sentiment_df['highly_p'] = sentiment_df.highly.map({True:1, False:0})\n",
    "sentiment_df['fine_p'] = sentiment_df.fine.map({True:1, False:0})\n",
    "sentiment_df['right_p'] = sentiment_df.right.map({True:1, False:0})\n",
    "sentiment_df['useful_p'] = sentiment_df.useful.map({True:1, False:0})\n",
    "sentiment_df['all_p'] = sentiment_df['all'].map({True:1, False:0})\n",
    "sentiment_df['reasonable_p'] = sentiment_df.reasonable.map({True:1, False:0})"
   ]
  },
  {
   "cell_type": "code",
   "execution_count": 20,
   "metadata": {},
   "outputs": [
    {
     "data": {
      "text/html": [
       "<div>\n",
       "<style scoped>\n",
       "    .dataframe tbody tr th:only-of-type {\n",
       "        vertical-align: middle;\n",
       "    }\n",
       "\n",
       "    .dataframe tbody tr th {\n",
       "        vertical-align: top;\n",
       "    }\n",
       "\n",
       "    .dataframe thead th {\n",
       "        text-align: right;\n",
       "    }\n",
       "</style>\n",
       "<table border=\"1\" class=\"dataframe\">\n",
       "  <thead>\n",
       "    <tr style=\"text-align: right;\">\n",
       "      <th></th>\n",
       "      <th>message</th>\n",
       "      <th>excellent</th>\n",
       "      <th>great</th>\n",
       "      <th>good</th>\n",
       "      <th>perfect</th>\n",
       "      <th>nice</th>\n",
       "      <th>wise</th>\n",
       "      <th>recommended</th>\n",
       "      <th>love</th>\n",
       "      <th>better</th>\n",
       "      <th>...</th>\n",
       "      <th>must_p</th>\n",
       "      <th>loved_p</th>\n",
       "      <th>well_p</th>\n",
       "      <th>ideal_p</th>\n",
       "      <th>highly_p</th>\n",
       "      <th>fine_p</th>\n",
       "      <th>right_p</th>\n",
       "      <th>useful_p</th>\n",
       "      <th>all_p</th>\n",
       "      <th>reasonable_p</th>\n",
       "    </tr>\n",
       "  </thead>\n",
       "  <tbody>\n",
       "    <tr>\n",
       "      <th>0</th>\n",
       "      <td>so there is no way for me to plug it in here i...</td>\n",
       "      <td>False</td>\n",
       "      <td>False</td>\n",
       "      <td>False</td>\n",
       "      <td>False</td>\n",
       "      <td>False</td>\n",
       "      <td>False</td>\n",
       "      <td>False</td>\n",
       "      <td>False</td>\n",
       "      <td>False</td>\n",
       "      <td>...</td>\n",
       "      <td>0</td>\n",
       "      <td>0</td>\n",
       "      <td>0</td>\n",
       "      <td>0</td>\n",
       "      <td>0</td>\n",
       "      <td>0</td>\n",
       "      <td>0</td>\n",
       "      <td>0</td>\n",
       "      <td>0</td>\n",
       "      <td>0</td>\n",
       "    </tr>\n",
       "    <tr>\n",
       "      <th>1</th>\n",
       "      <td>good case, excellent value.\\t1</td>\n",
       "      <td>True</td>\n",
       "      <td>False</td>\n",
       "      <td>True</td>\n",
       "      <td>False</td>\n",
       "      <td>False</td>\n",
       "      <td>False</td>\n",
       "      <td>False</td>\n",
       "      <td>False</td>\n",
       "      <td>False</td>\n",
       "      <td>...</td>\n",
       "      <td>0</td>\n",
       "      <td>0</td>\n",
       "      <td>0</td>\n",
       "      <td>0</td>\n",
       "      <td>0</td>\n",
       "      <td>0</td>\n",
       "      <td>0</td>\n",
       "      <td>0</td>\n",
       "      <td>0</td>\n",
       "      <td>0</td>\n",
       "    </tr>\n",
       "    <tr>\n",
       "      <th>2</th>\n",
       "      <td>great for the jawbone.\\t1</td>\n",
       "      <td>False</td>\n",
       "      <td>True</td>\n",
       "      <td>False</td>\n",
       "      <td>False</td>\n",
       "      <td>False</td>\n",
       "      <td>False</td>\n",
       "      <td>False</td>\n",
       "      <td>False</td>\n",
       "      <td>False</td>\n",
       "      <td>...</td>\n",
       "      <td>0</td>\n",
       "      <td>0</td>\n",
       "      <td>0</td>\n",
       "      <td>0</td>\n",
       "      <td>0</td>\n",
       "      <td>0</td>\n",
       "      <td>0</td>\n",
       "      <td>0</td>\n",
       "      <td>0</td>\n",
       "      <td>0</td>\n",
       "    </tr>\n",
       "    <tr>\n",
       "      <th>3</th>\n",
       "      <td>tied to charger for conversations lasting more...</td>\n",
       "      <td>False</td>\n",
       "      <td>False</td>\n",
       "      <td>False</td>\n",
       "      <td>False</td>\n",
       "      <td>False</td>\n",
       "      <td>False</td>\n",
       "      <td>False</td>\n",
       "      <td>False</td>\n",
       "      <td>False</td>\n",
       "      <td>...</td>\n",
       "      <td>0</td>\n",
       "      <td>0</td>\n",
       "      <td>0</td>\n",
       "      <td>0</td>\n",
       "      <td>0</td>\n",
       "      <td>0</td>\n",
       "      <td>0</td>\n",
       "      <td>0</td>\n",
       "      <td>0</td>\n",
       "      <td>0</td>\n",
       "    </tr>\n",
       "    <tr>\n",
       "      <th>4</th>\n",
       "      <td>the mic is great.\\t1</td>\n",
       "      <td>False</td>\n",
       "      <td>True</td>\n",
       "      <td>False</td>\n",
       "      <td>False</td>\n",
       "      <td>False</td>\n",
       "      <td>False</td>\n",
       "      <td>False</td>\n",
       "      <td>False</td>\n",
       "      <td>False</td>\n",
       "      <td>...</td>\n",
       "      <td>0</td>\n",
       "      <td>0</td>\n",
       "      <td>0</td>\n",
       "      <td>0</td>\n",
       "      <td>0</td>\n",
       "      <td>0</td>\n",
       "      <td>0</td>\n",
       "      <td>0</td>\n",
       "      <td>0</td>\n",
       "      <td>0</td>\n",
       "    </tr>\n",
       "  </tbody>\n",
       "</table>\n",
       "<p>5 rows × 53 columns</p>\n",
       "</div>"
      ],
      "text/plain": [
       "                                             message  excellent  great   good  \\\n",
       "0  so there is no way for me to plug it in here i...      False  False  False   \n",
       "1                     good case, excellent value.\\t1       True  False   True   \n",
       "2                          great for the jawbone.\\t1      False   True  False   \n",
       "3  tied to charger for conversations lasting more...      False  False  False   \n",
       "4                               the mic is great.\\t1      False   True  False   \n",
       "\n",
       "   perfect   nice   wise  recommended   love  better  ...  must_p  loved_p  \\\n",
       "0    False  False  False        False  False   False  ...       0        0   \n",
       "1    False  False  False        False  False   False  ...       0        0   \n",
       "2    False  False  False        False  False   False  ...       0        0   \n",
       "3    False  False  False        False  False   False  ...       0        0   \n",
       "4    False  False  False        False  False   False  ...       0        0   \n",
       "\n",
       "   well_p  ideal_p  highly_p  fine_p  right_p  useful_p  all_p  reasonable_p  \n",
       "0       0        0         0       0        0         0      0             0  \n",
       "1       0        0         0       0        0         0      0             0  \n",
       "2       0        0         0       0        0         0      0             0  \n",
       "3       0        0         0       0        0         0      0             0  \n",
       "4       0        0         0       0        0         0      0             0  \n",
       "\n",
       "[5 rows x 53 columns]"
      ]
     },
     "execution_count": 20,
     "metadata": {},
     "output_type": "execute_result"
    }
   ],
   "source": [
    "sentiment_df.head()"
   ]
  },
  {
   "cell_type": "code",
   "execution_count": 21,
   "metadata": {},
   "outputs": [],
   "source": [
    "positive = sentiment_df[keywords].sum(axis = 1)"
   ]
  },
  {
   "cell_type": "code",
   "execution_count": 22,
   "metadata": {},
   "outputs": [],
   "source": [
    "sentiment_df['positive']= positive"
   ]
  },
  {
   "cell_type": "code",
   "execution_count": 23,
   "metadata": {},
   "outputs": [],
   "source": [
    "data = sentiment_df[keywords]\n",
    "target = sentiment_df['positive']"
   ]
  },
  {
   "cell_type": "code",
   "execution_count": 24,
   "metadata": {},
   "outputs": [
    {
     "name": "stdout",
     "output_type": "stream",
     "text": [
      "Number of mislabeled points out of a total 1000 points : 87\n"
     ]
    }
   ],
   "source": [
    "# Our data is binary / boolean, so we're importing the Bernoulli classifier.\n",
    "from sklearn.naive_bayes import BernoulliNB\n",
    "\n",
    "# Instantiate our model and store it in a new variable.\n",
    "bnb = BernoulliNB()\n",
    "\n",
    "# Fit our model to the data.\n",
    "bnb.fit(data, target)\n",
    "\n",
    "# Classify, storing the result in a new variable.\n",
    "y_pred = bnb.predict(data)\n",
    "\n",
    "# Display our results.\n",
    "print(\"Number of mislabeled points out of a total {} points : {}\".format(\n",
    "    data.shape[0],\n",
    "    (target != y_pred).sum()\n",
    "))"
   ]
  },
  {
   "cell_type": "code",
   "execution_count": 25,
   "metadata": {},
   "outputs": [],
   "source": [
    "# Let's import another dataset in this project and see if there is any overlap in my model!\n",
    "yelp_sentiment_df = pd.read_fwf('yelp_labelled.txt', delimiter= '\\t', header = None)\n",
    "yelp_sentiment_df.columns = ['message', 'positive']"
   ]
  },
  {
   "cell_type": "code",
   "execution_count": 26,
   "metadata": {},
   "outputs": [],
   "source": [
    "keywords = ['excellent', 'great', 'good', 'perfect', 'nice', 'wise', 'recommended', 'love', 'better', 'comfortable', 'cool', 'happy', 'simple', \n",
    "            'tremendous', 'exactly', 'best', 'must', 'loved', 'well', 'ideal', 'highly', 'fine', 'right', 'useful', 'all', 'reasonable']\n",
    "\n",
    "for key in keywords:\n",
    "    # Note that we add spaces around the key so that we're getting the word,\n",
    "    # not just pattern matching.\n",
    "   # sentiment_df[str(key)] = sentiment_df.message.str.contains(\n",
    "    #    ' ' + str(key) + ' ',\n",
    "     #   case= True\n",
    "    #)\n",
    "    yelp_sentiment_df[str(key)] = yelp_sentiment_df.message.str.contains(str(key), case= True)"
   ]
  },
  {
   "cell_type": "code",
   "execution_count": 27,
   "metadata": {},
   "outputs": [],
   "source": [
    "yelp_sentiment_df['excellent_p'] = yelp_sentiment_df.excellent.map({True: 1, False:0})\n",
    "yelp_sentiment_df['great_p'] = yelp_sentiment_df.great.map({True:1, False:0})\n",
    "yelp_sentiment_df['good_p'] = yelp_sentiment_df.good.map({True:1, False:0})\n",
    "yelp_sentiment_df['perfect_p'] = yelp_sentiment_df.perfect.map({True:1, False:0})\n",
    "yelp_sentiment_df['nice_p'] = yelp_sentiment_df.nice.map({True:1, False:0})\n",
    "yelp_sentiment_df['wise_p'] = yelp_sentiment_df.wise.map({True:1, False:0})\n",
    "yelp_sentiment_df['recommended_p'] = yelp_sentiment_df.recommended.map({True:1, False:0})\n",
    "yelp_sentiment_df['love_p'] = yelp_sentiment_df.love.map({True:1, False:0})\n",
    "yelp_sentiment_df['better_p'] = yelp_sentiment_df.better.map({True:1, False:0})\n",
    "yelp_sentiment_df['comfortable_p'] = yelp_sentiment_df.comfortable.map({True:1, False:0})\n",
    "yelp_sentiment_df['cool_p'] = yelp_sentiment_df.cool.map({True:1, False:0})\n",
    "yelp_sentiment_df['happy_p'] = yelp_sentiment_df.happy.map({True:1, False:0})\n",
    "yelp_sentiment_df['simple_p'] = yelp_sentiment_df.simple.map({True:1, False:0})\n",
    "yelp_sentiment_df['tremendous_p'] = yelp_sentiment_df.tremendous.map({True:1, False:0})\n",
    "yelp_sentiment_df['exactly_p'] = yelp_sentiment_df.exactly.map({True:1, False:0})\n",
    "yelp_sentiment_df['best_p'] = yelp_sentiment_df.best.map({True:1, False:0})\n",
    "yelp_sentiment_df['must_p'] = yelp_sentiment_df.must.map({True:1, False:0})\n",
    "yelp_sentiment_df['loved_p'] = yelp_sentiment_df.loved.map({True:1, False:0})\n",
    "yelp_sentiment_df['well_p'] = yelp_sentiment_df.well.map({True:1, False:0})\n",
    "yelp_sentiment_df['ideal_p'] = yelp_sentiment_df.ideal.map({True:1, False:0})\n",
    "yelp_sentiment_df['highly_p'] = yelp_sentiment_df.highly.map({True:1, False:0})\n",
    "yelp_sentiment_df['fine_p'] = yelp_sentiment_df.fine.map({True:1, False:0})\n",
    "yelp_sentiment_df['right_p'] = yelp_sentiment_df.right.map({True:1, False:0})\n",
    "yelp_sentiment_df['useful_p'] = yelp_sentiment_df.useful.map({True:1, False:0})\n",
    "yelp_sentiment_df['all_p'] = yelp_sentiment_df['all'].map({True:1, False:0})\n",
    "yelp_sentiment_df['reasonable_p'] = yelp_sentiment_df.reasonable.map({True:1, False:0})"
   ]
  },
  {
   "cell_type": "code",
   "execution_count": 28,
   "metadata": {},
   "outputs": [],
   "source": [
    "positive = yelp_sentiment_df[keywords].sum(axis = 1)"
   ]
  },
  {
   "cell_type": "code",
   "execution_count": 29,
   "metadata": {},
   "outputs": [],
   "source": [
    "(yelp_sentiment_df['positive'])= positive"
   ]
  },
  {
   "cell_type": "code",
   "execution_count": 30,
   "metadata": {},
   "outputs": [],
   "source": [
    "data = yelp_sentiment_df[keywords]\n",
    "target = yelp_sentiment_df['positive']"
   ]
  },
  {
   "cell_type": "code",
   "execution_count": 31,
   "metadata": {},
   "outputs": [
    {
     "name": "stdout",
     "output_type": "stream",
     "text": [
      "Number of mislabeled points out of a total 1000 points : 70\n"
     ]
    }
   ],
   "source": [
    "# Our data is binary / boolean, so we're importing the Bernoulli classifier.\n",
    "from sklearn.naive_bayes import BernoulliNB\n",
    "\n",
    "# Instantiate our model and store it in a new variable.\n",
    "bnb = BernoulliNB()\n",
    "\n",
    "# Fit our model to the data.\n",
    "bnb.fit(data, target)\n",
    "\n",
    "# Classify, storing the result in a new variable.\n",
    "y_pred = bnb.predict(data)\n",
    "\n",
    "# Display our results.\n",
    "print(\"Number of mislabeled points out of a total {} points : {}\".format(\n",
    "    data.shape[0],\n",
    "    (target != y_pred).sum()\n",
    "))"
   ]
  },
  {
   "cell_type": "code",
   "execution_count": 32,
   "metadata": {},
   "outputs": [
    {
     "data": {
      "text/plain": [
       "93.0"
      ]
     },
     "execution_count": 32,
     "metadata": {},
     "output_type": "execute_result"
    }
   ],
   "source": [
    "((1000-70)/10)"
   ]
  },
  {
   "cell_type": "markdown",
   "metadata": {},
   "source": [
    "## Challenge Write-Up\n",
    "\n",
    "For this challenge I decided to pick comments that had a \"positive\" sentiment, as it was easier to idenfity repeated positive words in the comments. I went through the first 20 comments to see if there were any repeating \"positive\" words that I could use as features. I then created a keyword list of these positive words and ran them through my model to see if it would identify them. According to my evaluation methods I had 87 out of 1,000 points mislabeled, giving my model an accuracy of around 91%. This seems like a decent number so I decided to try the same keywords on one of the other datasets provided in this assignment, the Yelp review file. I used the exact same positive keywords, which was a bit difficult since the reviews in both files are for completely different situations: the Amazon file is a review of a product and the Yelp file is a review of a place. Despite the differences there were still overlapping positive keywords and my model had an accuracy of around 93% with the second data set."
   ]
  },
  {
   "cell_type": "markdown",
   "metadata": {},
   "source": [
    "## 18.7: Accuracy and Error Types"
   ]
  },
  {
   "cell_type": "code",
   "execution_count": 33,
   "metadata": {},
   "outputs": [],
   "source": [
    "# Grab and process the raw data.\n",
    "data_path = (\"https://raw.githubusercontent.com/Thinkful-Ed/data-201-resources/\"\n",
    "             \"master/sms_spam_collection/SMSSpamCollection\"\n",
    "            )\n",
    "sms_raw = pd.read_csv(data_path, delimiter= '\\t', header=None)\n",
    "sms_raw.columns = ['spam', 'message']\n",
    "\n",
    "# Enumerate our spammy keywords.\n",
    "keywords = ['click', 'offer', 'winner', 'buy', 'free', 'cash', 'urgent']\n",
    "\n",
    "for key in keywords:\n",
    "    sms_raw[str(key)] = sms_raw.message.str.contains(\n",
    "        ' ' + str(key) + ' ',\n",
    "        case=False\n",
    ")\n",
    "\n",
    "sms_raw['allcaps'] = sms_raw.message.str.isupper()\n",
    "sms_raw['spam'] = (sms_raw['spam'] == 'spam')\n",
    "data = sms_raw[keywords + ['allcaps']]\n",
    "target = sms_raw['spam']\n",
    "\n",
    "from sklearn.naive_bayes import BernoulliNB\n",
    "bnb = BernoulliNB()\n",
    "y_pred = bnb.fit(data, target).predict(data)"
   ]
  },
  {
   "cell_type": "code",
   "execution_count": 34,
   "metadata": {
    "scrolled": true
   },
   "outputs": [
    {
     "name": "stdout",
     "output_type": "stream",
     "text": [
      "Number of mislabeled points out of a total 5572 points : 604\n"
     ]
    }
   ],
   "source": [
    "# Calculate the accuracy of your model here.\n",
    "# Display our results.\n",
    "print(\"Number of mislabeled points out of a total {} points : {}\".format(\n",
    "    data.shape[0],\n",
    "    (target != y_pred).sum()\n",
    "))"
   ]
  },
  {
   "cell_type": "code",
   "execution_count": 35,
   "metadata": {},
   "outputs": [
    {
     "name": "stdout",
     "output_type": "stream",
     "text": [
      "89.16008614501077\n"
     ]
    }
   ],
   "source": [
    "# Calculate the accuracy of your model here:\n",
    "remaining= (5572- 604)\n",
    "print(remaining/5572*100)"
   ]
  },
  {
   "cell_type": "code",
   "execution_count": 36,
   "metadata": {},
   "outputs": [
    {
     "name": "stdout",
     "output_type": "stream",
     "text": [
      "4968\n"
     ]
    }
   ],
   "source": [
    "print(remaining)"
   ]
  },
  {
   "cell_type": "code",
   "execution_count": 37,
   "metadata": {},
   "outputs": [
    {
     "data": {
      "text/plain": [
       "array([[4770,   55],\n",
       "       [ 549,  198]], dtype=int64)"
      ]
     },
     "execution_count": 37,
     "metadata": {},
     "output_type": "execute_result"
    }
   ],
   "source": [
    "from sklearn.metrics import confusion_matrix\n",
    "confusion_matrix(target, y_pred)"
   ]
  },
  {
   "cell_type": "markdown",
   "metadata": {},
   "source": [
    "### DRILL:\n",
    "It's worth calculating these with code so that you fully understand how these statistics work, so here is your task for the cell below. Manually generate (meaning don't use the SKLearn function) your own confusion matrix and print it along with the sensitivity and specificity."
   ]
  },
  {
   "cell_type": "code",
   "execution_count": 38,
   "metadata": {},
   "outputs": [],
   "source": [
    "# Build your confusion matrix and calculate sensitivity and specificity here.\n",
    "\n",
    "# We have 5572 data points in this model. 604 of them are incorrectly classified. According to our notes we know 549 were false negative,\n",
    "# and 55 points were false positive. (\"Correctly\" labeled points = 4,968 )\n",
    "totalpts= 5572\n",
    "\n",
    "# Calculations for false negatives (target # is 549)\n",
    "false_neg= 549 \n",
    "# Calculations for false positives (target # is 55)\n",
    "false_pos = 55\n",
    "# Calculations for sensitivity (true positives)\n",
    "sensitivity = (198/747)\n",
    "# Calculation for specificity (true negatives)\n",
    "specificity= (4770/4825)"
   ]
  },
  {
   "cell_type": "markdown",
   "metadata": {},
   "source": [
    "## 18.9: In-Sample Evaluation and Cross-Validation"
   ]
  },
  {
   "cell_type": "code",
   "execution_count": 39,
   "metadata": {},
   "outputs": [],
   "source": [
    "# Grab and process the raw data.\n",
    "data_path = (\"https://raw.githubusercontent.com/Thinkful-Ed/data-201-resources/\"\n",
    "             \"master/sms_spam_collection/SMSSpamCollection\"\n",
    "            )\n",
    "sms_raw = pd.read_csv(data_path, delimiter= '\\t', header=None)\n",
    "sms_raw.columns = ['spam', 'message']\n",
    "\n",
    "# Enumerate our spammy keywords.\n",
    "keywords = ['click', 'offer', 'winner', 'buy', 'free', 'cash', 'urgent']\n",
    "\n",
    "for key in keywords:\n",
    "    sms_raw[str(key)] = sms_raw.message.str.contains(\n",
    "        ' ' + str(key) + ' ',\n",
    "        case=False\n",
    ")\n",
    "\n",
    "sms_raw['allcaps'] = sms_raw.message.str.isupper()\n",
    "sms_raw['spam'] = (sms_raw['spam'] == 'spam')\n",
    "data = sms_raw[keywords + ['allcaps']]\n",
    "target = sms_raw['spam']\n",
    "\n",
    "from sklearn.naive_bayes import BernoulliNB\n",
    "bnb = BernoulliNB()\n",
    "y_pred = bnb.fit(data, target).predict(data)"
   ]
  },
  {
   "cell_type": "code",
   "execution_count": 40,
   "metadata": {},
   "outputs": [
    {
     "name": "stdout",
     "output_type": "stream",
     "text": [
      "With 20% Holdout: 0.884304932735426\n",
      "Testing on Sample: 0.8916008614501076\n"
     ]
    }
   ],
   "source": [
    "# Test your model with different holdout groups.\n",
    "\n",
    "from sklearn.model_selection import train_test_split\n",
    "# Use train_test_split to create the necessary training and test groups\n",
    "X_train, X_test, y_train, y_test = train_test_split(data, target, test_size=0.2, random_state=20)\n",
    "print('With 20% Holdout: ' + str(bnb.fit(X_train, y_train).score(X_test, y_test)))\n",
    "print('Testing on Sample: ' + str(bnb.fit(data, target).score(data, target)))"
   ]
  },
  {
   "cell_type": "code",
   "execution_count": 41,
   "metadata": {},
   "outputs": [
    {
     "data": {
      "text/plain": [
       "array([0.89784946, 0.89426523, 0.89426523, 0.890681  , 0.89605735,\n",
       "       0.89048474, 0.88150808, 0.89028777, 0.88489209, 0.89568345])"
      ]
     },
     "execution_count": 41,
     "metadata": {},
     "output_type": "execute_result"
    }
   ],
   "source": [
    "#Cross Validation\n",
    "from sklearn.model_selection import cross_val_score\n",
    "cross_val_score(bnb, data, target, cv=10)"
   ]
  },
  {
   "cell_type": "markdown",
   "metadata": {},
   "source": [
    "## 18.10: Challenge- Implement Your Own Sentiment Classifier"
   ]
  },
  {
   "cell_type": "markdown",
   "metadata": {},
   "source": [
    "This assignment is in another Jupyter notebook that I have shared the link to in my assignment page."
   ]
  }
 ],
 "metadata": {
  "kernelspec": {
   "display_name": "Python 3",
   "language": "python",
   "name": "python3"
  },
  "language_info": {
   "codemirror_mode": {
    "name": "ipython",
    "version": 3
   },
   "file_extension": ".py",
   "mimetype": "text/x-python",
   "name": "python",
   "nbconvert_exporter": "python",
   "pygments_lexer": "ipython3",
   "version": "3.7.3"
  }
 },
 "nbformat": 4,
 "nbformat_minor": 2
}
