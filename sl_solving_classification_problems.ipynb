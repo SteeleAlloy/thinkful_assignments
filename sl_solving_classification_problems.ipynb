{
 "cells": [
  {
   "cell_type": "markdown",
   "metadata": {},
   "source": [
    "## Checkpoint 2: Regression vs. Classification"
   ]
  },
  {
   "cell_type": "markdown",
   "metadata": {},
   "source": [
    "#### Assignment:\n",
    "For each of the following situations, decide if you would model using a regression or classification model. Discuss your reasoning with your mentor next time you meet.\n"
   ]
  },
  {
   "cell_type": "markdown",
   "metadata": {},
   "source": [
    "**1. The amount a person will spend on a given site in the next 24 months.**\n",
    "\n",
    "Amount spent, which is the target variable here, is continuous (unless, of course the website is for a dollar store or only has specific prices for everything) so I would use a regression model for this example."
   ]
  },
  {
   "cell_type": "markdown",
   "metadata": {},
   "source": [
    "**2. What color car someone is going to buy.**\n",
    "\n",
    "The target variable (car color) is categorical (there are only so many colors a car can come in, even including custom paint jobs) so I would use a classification model for this example."
   ]
  },
  {
   "cell_type": "markdown",
   "metadata": {},
   "source": [
    "**3. How many children a family will have.**\n",
    "\n",
    "Since the target variable is not a category (there is no limit to how many children a family can have- just ask the Duggers!) I would use a regression model for this example."
   ]
  },
  {
   "cell_type": "markdown",
   "metadata": {},
   "source": [
    "**4. If someone will sign up for a service.**\n",
    "\n",
    "The target variable (signup) is a categorical variable, so I would use a classification model for this example.\n"
   ]
  },
  {
   "cell_type": "markdown",
   "metadata": {},
   "source": [
    "**5. The number of times someone will get sick in a year.**\n",
    "\n",
    "Since the target variable is continuous (how many times someone gets sick in a year) I would choose to a regression for this example.\n"
   ]
  },
  {
   "cell_type": "markdown",
   "metadata": {},
   "source": [
    "**6. The probability someone will get sick in the next month.**\n",
    "\n",
    "Since the target variable (sick or not sick) is categorical I would choose to do a classification for this example.\n"
   ]
  },
  {
   "cell_type": "markdown",
   "metadata": {},
   "source": [
    "**7. Which medicine will work best for a given patient.**\n",
    "\n",
    "This is a slightly weird example, as I can see the value in doing both a classification and a regression model, depending on how we interperate the target variable (effectiveness of medicine). If we just wanted to know if the medicine worked or not I would use a classification model, but if we wanted a continuous measurement of how effective a given medicine was I would use a regression model."
   ]
  }
 ],
 "metadata": {
  "kernelspec": {
   "display_name": "Python 3",
   "language": "python",
   "name": "python3"
  },
  "language_info": {
   "codemirror_mode": {
    "name": "ipython",
    "version": 3
   },
   "file_extension": ".py",
   "mimetype": "text/x-python",
   "name": "python",
   "nbconvert_exporter": "python",
   "pygments_lexer": "ipython3",
   "version": "3.7.3"
  }
 },
 "nbformat": 4,
 "nbformat_minor": 2
}
